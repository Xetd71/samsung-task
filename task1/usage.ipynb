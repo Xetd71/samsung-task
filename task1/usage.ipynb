{
 "cells": [
  {
   "cell_type": "code",
   "execution_count": 20,
   "metadata": {},
   "outputs": [],
   "source": [
    "import os\n",
    "import shutil\n",
    "import numpy as np\n",
    "from tensorflow.python.keras.optimizers import SGD\n",
    "from tensorflow.python.keras.models import model_from_json\n",
    "from tensorflow.python.keras.preprocessing import image\n",
    "import matplotlib.pyplot as plt\n",
    "%matplotlib inline"
   ]
  },
  {
   "cell_type": "code",
   "execution_count": 21,
   "metadata": {},
   "outputs": [],
   "source": [
    "with open(\"classifier.json\", \"r\") as f:\n",
    "    m_js = f.read()\n",
    "classifier = model_from_json(m_js)\n",
    "classifier.load_weights(\"classifier.h5\")\n",
    "\n",
    "sgd = SGD(lr=0.01, decay=1e-6, momentum=0.9, nesterov=True)\n",
    "classifier.compile(loss='binary_crossentropy',\n",
    "              optimizer=sgd,\n",
    "              metrics=['accuracy'])"
   ]
  },
  {
   "cell_type": "code",
   "execution_count": 22,
   "metadata": {},
   "outputs": [],
   "source": [
    "def get_files_list(dir_path):\n",
    "    return [f for f in os.listdir(dir_path) if os.path.isfile(os.path.join(dir_path, f))]"
   ]
  },
  {
   "cell_type": "code",
   "execution_count": 23,
   "metadata": {},
   "outputs": [],
   "source": [
    "img_width = 32\n",
    "img_height = 32\n",
    "\n",
    "clock_dir = \"data/clock/\"\n",
    "crocodile_dir = \"data/crocodile/\"\n",
    "\n",
    "clock_images = get_files_list(clock_dir)\n",
    "crocodile_images = get_files_list(crocodile_dir)"
   ]
  },
  {
   "cell_type": "code",
   "execution_count": 24,
   "metadata": {},
   "outputs": [],
   "source": [
    "def plot_image_and_predict(image_path):\n",
    "    img = image.load_img(image_path, target_size=(img_height, img_width))\n",
    "    x = image.img_to_array(img)\n",
    "    x /= 255\n",
    "    x = np.expand_dims(x, axis=0)\n",
    "\n",
    "    plt.imshow(img)\n",
    "\n",
    "    prediction = classifier.predict(x)[0,0]\n",
    "    print(prediction)\n",
    "    classes=['Crocodile', 'Clock']\n",
    "    print('{} with probability {:.5f}'.format(classes[int(prediction < 0.5)], max(prediction, 1-prediction)*100))"
   ]
  },
  {
   "cell_type": "code",
   "execution_count": 25,
   "metadata": {
    "scrolled": true
   },
   "outputs": [
    {
     "name": "stdout",
     "output_type": "stream",
     "text": [
      "2.6605622e-07\n",
      "Clock with probability 99.99997\n"
     ]
    },
    {
     "data": {
      "image/png": "[encoded data removed]",
      "text/plain": [
       "<matplotlib.figure.Figure at 0x139589d4f60>"
      ]
     },
     "metadata": {},
     "output_type": "display_data"
    }
   ],
   "source": [
    "clock_img = np.random.choice(clock_images, 1)[0]\n",
    "plot_image_and_predict(os.path.join(clock_dir, clock_img))"
   ]
  },
  {
   "cell_type": "code",
   "execution_count": 26,
   "metadata": {},
   "outputs": [
    {
     "name": "stdout",
     "output_type": "stream",
     "text": [
      "0.9996507\n",
      "Crocodile with probability 99.96507\n"
     ]
    },
    {
     "data": {
      "image/png": "[encoded data removed]",
      "text/plain": [
       "<matplotlib.figure.Figure at 0x139669931d0>"
      ]
     },
     "metadata": {},
     "output_type": "display_data"
    }
   ],
   "source": [
    "crocodile_img = np.random.choice(crocodile_images, 1)[0]\n",
    "plot_image_and_predict(os.path.join(crocodile_dir, crocodile_img))"
   ]
  },
  {
   "cell_type": "code",
   "execution_count": 28,
   "metadata": {},
   "outputs": [
    {
     "name": "stdout",
     "output_type": "stream",
     "text": [
      "0.9979470 data/crocodile/10366.png\n",
      "0.9999688 data/crocodile/1041.png\n",
      "0.7616642 data/crocodile/10410.png\n",
      "0.9972682 data/crocodile/1055.png\n",
      "0.9658410 data/crocodile/10551.png\n",
      "0.9975413 data/crocodile/10626.png\n",
      "0.9942586 data/crocodile/10719.png\n",
      "0.9994635 data/crocodile/10814.png\n",
      "0.9984413 data/crocodile/10862.png\n",
      "0.9905307 data/crocodile/10865.png\n",
      "0.9972414 data/crocodile/10875.png\n",
      "0.9974993 data/crocodile/11025.png\n",
      "0.9998239 data/crocodile/11165.png\n",
      "0.9243234 data/crocodile/11177.png\n",
      "0.9989657 data/crocodile/11184.png\n",
      "0.9997182 data/crocodile/11226.png\n",
      "0.9787521 data/crocodile/11353.png\n",
      "0.8335053 data/crocodile/11423.png\n",
      "0.9999685 data/crocodile/11536.png\n",
      "0.9993730 data/crocodile/11621.png\n",
      "0.9997161 data/crocodile/11639.png\n",
      "0.9953247 data/crocodile/11828.png\n",
      "0.9997177 data/crocodile/12015.png\n",
      "0.9982144 data/crocodile/12072.png\n",
      "0.9990141 data/crocodile/12197.png\n",
      "0.9700050 data/crocodile/12212.png\n",
      "0.9589562 data/crocodile/12278.png\n",
      "0.9932351 data/crocodile/1239.png\n",
      "0.9995974 data/crocodile/12487.png\n",
      "0.9993083 data/crocodile/12553.png\n",
      "0.9998336 data/crocodile/12594.png\n",
      "0.9988353 data/crocodile/12620.png\n",
      "0.9942077 data/crocodile/12730.png\n",
      "0.9920025 data/crocodile/1285.png\n",
      "0.9998112 data/crocodile/12851.png\n",
      "0.9997810 data/crocodile/12953.png\n",
      "0.9746332 data/crocodile/13061.png\n",
      "0.9835059 data/crocodile/13165.png\n",
      "0.9999990 data/crocodile/13226.png\n",
      "0.9999932 data/crocodile/13570.png\n",
      "0.9998559 data/crocodile/13610.png\n",
      "0.9980653 data/crocodile/13712.png\n",
      "0.9999999 data/crocodile/13787.png\n",
      "0.9995073 data/crocodile/13839.png\n",
      "0.9999956 data/crocodile/13843.png\n",
      "0.9043501 data/crocodile/13856.png\n",
      "0.9982175 data/crocodile/13874.png\n",
      "0.9695920 data/crocodile/1388.png\n",
      "0.9999994 data/crocodile/13943.png\n",
      "0.9882370 data/crocodile/13955.png\n",
      "0.9999077 data/crocodile/13966.png\n",
      "0.9990131 data/crocodile/14498.png\n",
      "0.8524575 data/crocodile/14693.png\n",
      "0.9999766 data/crocodile/14695.png\n",
      "0.9999532 data/crocodile/14853.png\n",
      "0.9988369 data/crocodile/14891.png\n",
      "0.9424236 data/crocodile/15032.png\n",
      "0.9999735 data/crocodile/15050.png\n",
      "0.9616095 data/crocodile/15052.png\n",
      "0.9999988 data/crocodile/15066.png\n",
      "0.9990373 data/crocodile/15181.png\n",
      "0.9243812 data/crocodile/15228.png\n",
      "0.9985853 data/crocodile/153.png\n",
      "0.9996206 data/crocodile/1538.png\n",
      "0.9999673 data/crocodile/15441.png\n",
      "0.9951302 data/crocodile/15469.png\n",
      "0.9925988 data/crocodile/15481.png\n",
      "0.9997930 data/crocodile/15494.png\n",
      "0.9905732 data/crocodile/15502.png\n",
      "0.9999869 data/crocodile/1584.png\n",
      "0.9966264 data/crocodile/1598.png\n",
      "0.9941527 data/crocodile/16125.png\n",
      "0.9998901 data/crocodile/16191.png\n",
      "0.9937527 data/crocodile/16259.png\n",
      "0.9630480 data/crocodile/16275.png\n",
      "0.7934379 data/crocodile/1631.png\n",
      "0.9980487 data/crocodile/16451.png\n",
      "0.9959813 data/crocodile/16493.png\n",
      "0.9988672 data/crocodile/16566.png\n",
      "0.9942637 data/crocodile/16632.png\n",
      "0.9828854 data/crocodile/16652.png\n",
      "0.9972706 data/crocodile/16743.png\n",
      "0.9757474 data/crocodile/16747.png\n",
      "0.9994704 data/crocodile/16855.png\n",
      "0.9970952 data/crocodile/16926.png\n",
      "0.9990925 data/crocodile/16960.png\n",
      "0.9976063 data/crocodile/17200.png\n",
      "0.9999864 data/crocodile/17259.png\n",
      "0.9889039 data/crocodile/17293.png\n",
      "0.9999481 data/crocodile/17454.png\n",
      "0.9998667 data/crocodile/17530.png\n",
      "0.9945557 data/crocodile/17559.png\n",
      "0.9980253 data/crocodile/17563.png\n",
      "0.9951467 data/crocodile/17566.png\n",
      "0.9999959 data/crocodile/17655.png\n",
      "0.9964012 data/crocodile/17695.png\n",
      "0.9999994 data/crocodile/17698.png\n",
      "0.9999986 data/crocodile/17703.png\n",
      "0.0970421 data/crocodile/1771.png\n",
      "0.9929645 data/crocodile/17728.png\n",
      "0.9965112 data/crocodile/1782.png\n",
      "0.9962024 data/crocodile/1795.png\n",
      "0.9877659 data/crocodile/17963.png\n",
      "0.9995428 data/crocodile/18038.png\n",
      "0.9998028 data/crocodile/18187.png\n",
      "0.9996952 data/crocodile/18362.png\n",
      "0.9998703 data/crocodile/18806.png\n",
      "0.9892740 data/crocodile/19172.png\n",
      "0.9992901 data/crocodile/1940.png\n",
      "0.9723789 data/crocodile/19478.png\n",
      "0.9814624 data/crocodile/19527.png\n",
      "0.9984542 data/crocodile/19642.png\n",
      "0.9947807 data/crocodile/19682.png\n",
      "0.9994807 data/crocodile/19711.png\n",
      "0.9999769 data/crocodile/19771.png\n",
      "0.9996253 data/crocodile/19858.png\n",
      "0.9996581 data/crocodile/20088.png\n",
      "0.9996112 data/crocodile/20232.png\n",
      "0.5047168 data/crocodile/20289.png\n",
      "0.9999965 data/crocodile/20314.png\n",
      "0.9997575 data/crocodile/20432.png\n",
      "0.9994741 data/crocodile/20476.png\n",
      "0.9966091 data/crocodile/20510.png\n",
      "0.9992796 data/crocodile/20585.png\n",
      "0.9992684 data/crocodile/20604.png\n",
      "0.9581257 data/crocodile/20768.png\n",
      "0.9999976 data/crocodile/2092.png\n",
      "0.9960337 data/crocodile/20952.png\n",
      "1.0000000 data/crocodile/20987.png\n",
      "0.9996105 data/crocodile/21211.png\n",
      "0.9999733 data/crocodile/21252.png\n",
      "1.0000000 data/crocodile/21305.png\n",
      "0.9919379 data/crocodile/21370.png\n",
      "0.9969901 data/crocodile/21408.png\n",
      "0.9999926 data/crocodile/21480.png\n",
      "0.9856697 data/crocodile/21526.png\n",
      "0.9645146 data/crocodile/21527.png\n",
      "0.0015377 data/crocodile/21583.png\n",
      "0.9848781 data/crocodile/21589.png\n",
      "0.9915354 data/crocodile/21697.png\n",
      "0.0424152 data/crocodile/2170.png\n",
      "0.9999983 data/crocodile/21757.png\n",
      "0.9978310 data/crocodile/21984.png\n",
      "0.9999771 data/crocodile/22112.png\n",
      "0.9981658 data/crocodile/22296.png\n",
      "0.9996649 data/crocodile/2231.png\n",
      "0.9984512 data/crocodile/22532.png\n",
      "0.9970498 data/crocodile/22683.png\n",
      "0.9980311 data/crocodile/2281.png\n",
      "0.9999926 data/crocodile/22933.png\n",
      "0.9937342 data/crocodile/22940.png\n",
      "0.9999347 data/crocodile/22950.png\n",
      "0.9972929 data/crocodile/22953.png\n",
      "0.9992059 data/crocodile/23032.png\n",
      "0.9931779 data/crocodile/23090.png\n",
      "0.9909337 data/crocodile/23125.png\n",
      "0.9692020 data/crocodile/23132.png\n",
      "0.9218768 data/crocodile/23151.png\n",
      "0.9998912 data/crocodile/23181.png\n",
      "0.9964615 data/crocodile/23356.png\n",
      "0.9998662 data/crocodile/2340.png\n",
      "0.6712280 data/crocodile/23400.png\n",
      "0.9988254 data/crocodile/23408.png\n",
      "0.0003016 data/crocodile/23508.png\n",
      "0.9986405 data/crocodile/23684.png\n",
      "0.9999509 data/crocodile/23741.png\n",
      "0.9999617 data/crocodile/23799.png\n",
      "0.9986426 data/crocodile/23880.png\n",
      "0.9998516 data/crocodile/24093.png\n",
      "0.9819664 data/crocodile/24594.png\n",
      "0.9994332 data/crocodile/24632.png\n",
      "0.9999967 data/crocodile/24841.png\n",
      "0.9789318 data/crocodile/25049.png\n",
      "0.9998944 data/crocodile/2519.png\n",
      "0.9803774 data/crocodile/25194.png\n",
      "0.9984053 data/crocodile/2526.png\n",
      "0.9998827 data/crocodile/25270.png\n",
      "0.2170777 data/crocodile/25281.png\n",
      "0.9998883 data/crocodile/25307.png\n",
      "0.9998571 data/crocodile/25329.png\n",
      "0.9999795 data/crocodile/25357.png\n",
      "0.9999964 data/crocodile/25590.png\n",
      "0.7741216 data/crocodile/25620.png\n",
      "0.9996847 data/crocodile/25662.png\n",
      "0.9999961 data/crocodile/25699.png\n",
      "0.9995461 data/crocodile/25747.png\n",
      "0.9957380 data/crocodile/2579.png\n",
      "0.9997109 data/crocodile/25823.png\n",
      "0.7837915 data/crocodile/2583.png\n",
      "0.9995170 data/crocodile/25834.png\n",
      "0.9999932 data/crocodile/26015.png\n",
      "0.9948055 data/crocodile/26032.png\n",
      "0.9989974 data/crocodile/26256.png\n",
      "0.9944921 data/crocodile/26315.png\n",
      "0.9981254 data/crocodile/26442.png\n",
      "0.9961189 data/crocodile/26482.png\n",
      "0.9997769 data/crocodile/26590.png\n",
      "0.9990413 data/crocodile/26690.png\n",
      "0.9990422 data/crocodile/26692.png\n",
      "0.9999491 data/crocodile/26815.png\n",
      "0.9998292 data/crocodile/26925.png\n",
      "0.9974511 data/crocodile/26953.png\n",
      "0.8118140 data/crocodile/27039.png\n",
      "0.9969969 data/crocodile/27196.png\n",
      "0.9968960 data/crocodile/27239.png\n",
      "0.9968615 data/crocodile/27286.png\n",
      "0.9995368 data/crocodile/27357.png\n",
      "0.9998105 data/crocodile/27499.png\n",
      "0.9793833 data/crocodile/27513.png\n",
      "0.9999884 data/crocodile/27775.png\n",
      "0.9992291 data/crocodile/28024.png\n",
      "0.9999459 data/crocodile/28075.png\n",
      "0.9987670 data/crocodile/28093.png\n",
      "0.9988555 data/crocodile/2810.png\n",
      "0.9479564 data/crocodile/28337.png\n",
      "0.9976476 data/crocodile/28338.png\n",
      "0.9999311 data/crocodile/28357.png\n",
      "0.9993117 data/crocodile/28379.png\n",
      "0.9998510 data/crocodile/2839.png\n",
      "0.9970506 data/crocodile/28629.png\n",
      "0.9574798 data/crocodile/28727.png\n",
      "0.9967278 data/crocodile/28763.png\n",
      "0.9917727 data/crocodile/28781.png\n",
      "0.9767982 data/crocodile/28815.png\n",
      "0.9997174 data/crocodile/28871.png\n",
      "0.9991056 data/crocodile/28959.png\n",
      "0.9993394 data/crocodile/2901.png\n",
      "0.9487215 data/crocodile/29158.png\n",
      "0.9999987 data/crocodile/29181.png\n",
      "0.9999850 data/crocodile/29200.png\n",
      "0.9920647 data/crocodile/29290.png\n",
      "0.9997670 data/crocodile/29431.png\n",
      "0.9918889 data/crocodile/29489.png\n",
      "0.9997379 data/crocodile/29532.png\n",
      "0.9982423 data/crocodile/29637.png\n",
      "0.9959958 data/crocodile/29709.png\n",
      "0.9104159 data/crocodile/29745.png\n",
      "0.9976892 data/crocodile/29748.png\n",
      "0.9990011 data/crocodile/29890.png\n",
      "0.9686533 data/crocodile/29979.png\n",
      "0.9770358 data/crocodile/30271.png\n",
      "0.9998558 data/crocodile/30375.png\n",
      "0.9905902 data/crocodile/30604.png\n",
      "0.9998272 data/crocodile/30623.png\n",
      "0.9999746 data/crocodile/30751.png\n",
      "0.3279184 data/crocodile/30756.png\n",
      "0.9974489 data/crocodile/30800.png\n",
      "0.9999691 data/crocodile/30848.png\n",
      "0.9973335 data/crocodile/30858.png\n",
      "0.9576619 data/crocodile/30875.png\n",
      "0.9908875 data/crocodile/3094.png\n",
      "0.9992091 data/crocodile/31012.png\n",
      "0.9978364 data/crocodile/31435.png\n",
      "0.9872176 data/crocodile/31594.png\n",
      "0.9962142 data/crocodile/31719.png\n",
      "0.9915274 data/crocodile/32071.png\n",
      "0.9729793 data/crocodile/32098.png\n"
     ]
    },
    {
     "name": "stdout",
     "output_type": "stream",
     "text": [
      "0.9982438 data/crocodile/32289.png\n",
      "0.9947142 data/crocodile/3235.png\n",
      "0.9008687 data/crocodile/3240.png\n",
      "0.9917051 data/crocodile/32474.png\n",
      "0.9580794 data/crocodile/32664.png\n",
      "0.9988166 data/crocodile/32668.png\n",
      "0.9998376 data/crocodile/32691.png\n",
      "0.9999971 data/crocodile/32806.png\n",
      "0.9972827 data/crocodile/32808.png\n",
      "0.9999949 data/crocodile/33013.png\n",
      "0.9880738 data/crocodile/33141.png\n",
      "0.9998860 data/crocodile/33232.png\n",
      "0.9820068 data/crocodile/33343.png\n",
      "0.9926875 data/crocodile/33355.png\n",
      "0.9949483 data/crocodile/33447.png\n",
      "0.8036659 data/crocodile/33478.png\n",
      "0.9896074 data/crocodile/33515.png\n",
      "0.9999908 data/crocodile/3356.png\n",
      "0.9994664 data/crocodile/33737.png\n",
      "0.9992228 data/crocodile/33830.png\n",
      "0.9964544 data/crocodile/34084.png\n",
      "0.9987963 data/crocodile/34276.png\n",
      "0.9962748 data/crocodile/34313.png\n",
      "0.9982665 data/crocodile/34390.png\n",
      "0.9998205 data/crocodile/34459.png\n",
      "0.9950336 data/crocodile/34577.png\n",
      "0.9994758 data/crocodile/34645.png\n",
      "0.9999862 data/crocodile/34807.png\n",
      "0.9999815 data/crocodile/34823.png\n",
      "0.9960192 data/crocodile/34887.png\n",
      "0.9724733 data/crocodile/35108.png\n",
      "0.9999777 data/crocodile/35192.png\n",
      "0.9932555 data/crocodile/35233.png\n",
      "0.9995856 data/crocodile/35253.png\n",
      "0.9984415 data/crocodile/35259.png\n",
      "0.9933708 data/crocodile/35319.png\n",
      "0.9980304 data/crocodile/35362.png\n",
      "0.9835096 data/crocodile/35398.png\n",
      "0.9848247 data/crocodile/3545.png\n",
      "0.9999781 data/crocodile/35472.png\n",
      "0.6207811 data/crocodile/35478.png\n",
      "0.9525319 data/crocodile/35569.png\n",
      "0.9978035 data/crocodile/35632.png\n",
      "0.9951224 data/crocodile/35717.png\n",
      "0.9914463 data/crocodile/35737.png\n",
      "0.9380151 data/crocodile/36457.png\n",
      "0.9992170 data/crocodile/36691.png\n",
      "0.9989811 data/crocodile/36702.png\n",
      "0.9988132 data/crocodile/36775.png\n",
      "0.9999815 data/crocodile/36963.png\n",
      "0.9999379 data/crocodile/36965.png\n",
      "0.9831103 data/crocodile/3710.png\n",
      "0.9927779 data/crocodile/37134.png\n",
      "0.9980178 data/crocodile/37183.png\n",
      "0.9747964 data/crocodile/37456.png\n",
      "0.9999794 data/crocodile/37470.png\n",
      "0.9996774 data/crocodile/37484.png\n",
      "0.9794352 data/crocodile/37513.png\n",
      "0.9995253 data/crocodile/37704.png\n",
      "0.9988028 data/crocodile/37760.png\n",
      "0.9997099 data/crocodile/37761.png\n",
      "0.9998698 data/crocodile/38047.png\n",
      "0.9999944 data/crocodile/38146.png\n",
      "0.9719157 data/crocodile/38306.png\n",
      "0.7785455 data/crocodile/38348.png\n",
      "0.9999816 data/crocodile/38362.png\n",
      "0.1034215 data/crocodile/38805.png\n",
      "0.9999371 data/crocodile/38941.png\n",
      "0.9885861 data/crocodile/391.png\n",
      "0.9984018 data/crocodile/3910.png\n",
      "0.9975459 data/crocodile/39146.png\n",
      "0.9130957 data/crocodile/39260.png\n",
      "0.9985453 data/crocodile/39265.png\n",
      "0.4953659 data/crocodile/39268.png\n",
      "0.9613386 data/crocodile/39325.png\n",
      "0.9994987 data/crocodile/39385.png\n",
      "0.9987332 data/crocodile/39439.png\n",
      "0.9996810 data/crocodile/39659.png\n",
      "0.9997900 data/crocodile/39919.png\n",
      "0.9874149 data/crocodile/40077.png\n",
      "0.9993836 data/crocodile/40086.png\n",
      "0.9965751 data/crocodile/40097.png\n",
      "0.9999529 data/crocodile/40198.png\n",
      "0.9994264 data/crocodile/40216.png\n",
      "0.9976211 data/crocodile/40262.png\n",
      "0.1703585 data/crocodile/40330.png\n",
      "0.9972755 data/crocodile/40413.png\n",
      "0.9810308 data/crocodile/40513.png\n",
      "0.9389240 data/crocodile/40638.png\n",
      "0.9999884 data/crocodile/40767.png\n",
      "0.9999582 data/crocodile/40768.png\n",
      "0.9990367 data/crocodile/40953.png\n",
      "0.9971409 data/crocodile/40955.png\n",
      "0.9983708 data/crocodile/41088.png\n",
      "0.9999887 data/crocodile/41262.png\n",
      "0.9999347 data/crocodile/4143.png\n",
      "0.9593068 data/crocodile/41505.png\n",
      "0.9991661 data/crocodile/41711.png\n",
      "0.9999793 data/crocodile/41723.png\n",
      "0.9999937 data/crocodile/41738.png\n",
      "0.9769688 data/crocodile/41788.png\n",
      "0.9982952 data/crocodile/41821.png\n",
      "0.9990639 data/crocodile/41932.png\n",
      "0.9991612 data/crocodile/42141.png\n",
      "0.9791934 data/crocodile/42200.png\n",
      "0.9999994 data/crocodile/42220.png\n",
      "0.9995760 data/crocodile/42258.png\n",
      "0.8989028 data/crocodile/42434.png\n",
      "0.9963506 data/crocodile/42442.png\n",
      "0.9959956 data/crocodile/42469.png\n",
      "0.9771124 data/crocodile/42673.png\n",
      "0.9985292 data/crocodile/42764.png\n",
      "0.9999979 data/crocodile/42787.png\n",
      "0.9952029 data/crocodile/42893.png\n",
      "0.9999961 data/crocodile/42910.png\n",
      "0.9897142 data/crocodile/4296.png\n",
      "0.9952041 data/crocodile/43133.png\n",
      "0.9599080 data/crocodile/43579.png\n",
      "0.9988195 data/crocodile/43791.png\n",
      "0.9999032 data/crocodile/43837.png\n",
      "0.9999987 data/crocodile/43902.png\n",
      "0.9898808 data/crocodile/44127.png\n",
      "0.8999309 data/crocodile/44487.png\n",
      "0.9752800 data/crocodile/44571.png\n",
      "0.9946556 data/crocodile/44619.png\n",
      "0.9985359 data/crocodile/44683.png\n",
      "0.9998147 data/crocodile/44812.png\n",
      "0.9964297 data/crocodile/44954.png\n",
      "0.9962225 data/crocodile/45249.png\n",
      "0.9525348 data/crocodile/45258.png\n",
      "0.9973024 data/crocodile/45312.png\n",
      "0.9998145 data/crocodile/4533.png\n",
      "0.6394026 data/crocodile/45344.png\n",
      "0.9959365 data/crocodile/45620.png\n",
      "0.9991934 data/crocodile/45634.png\n",
      "0.9999917 data/crocodile/45681.png\n",
      "0.9989464 data/crocodile/45754.png\n",
      "0.9999863 data/crocodile/45785.png\n",
      "0.9839787 data/crocodile/45870.png\n",
      "0.9995534 data/crocodile/45895.png\n",
      "0.9991806 data/crocodile/46086.png\n",
      "0.9985523 data/crocodile/46211.png\n",
      "0.9996507 data/crocodile/46334.png\n",
      "0.9791926 data/crocodile/46338.png\n",
      "0.9999518 data/crocodile/46516.png\n",
      "0.9998575 data/crocodile/46544.png\n",
      "0.9860039 data/crocodile/46693.png\n",
      "0.9999446 data/crocodile/46906.png\n",
      "0.8884141 data/crocodile/47137.png\n",
      "0.9917819 data/crocodile/47144.png\n",
      "0.9910595 data/crocodile/47177.png\n",
      "0.9936994 data/crocodile/47249.png\n",
      "0.9195291 data/crocodile/47378.png\n",
      "0.9591611 data/crocodile/47450.png\n",
      "0.9937425 data/crocodile/47595.png\n",
      "0.9879709 data/crocodile/47634.png\n",
      "0.9998479 data/crocodile/47669.png\n",
      "0.9935396 data/crocodile/4790.png\n",
      "0.9998955 data/crocodile/47901.png\n",
      "0.9999415 data/crocodile/47928.png\n",
      "0.9963445 data/crocodile/47985.png\n",
      "0.9478269 data/crocodile/48078.png\n",
      "0.9945759 data/crocodile/48091.png\n",
      "0.9998420 data/crocodile/48181.png\n",
      "0.9964204 data/crocodile/48257.png\n",
      "0.9992756 data/crocodile/48296.png\n",
      "0.9999998 data/crocodile/48331.png\n",
      "0.9998066 data/crocodile/48343.png\n",
      "0.9998361 data/crocodile/48388.png\n",
      "0.9999281 data/crocodile/48445.png\n",
      "0.9999958 data/crocodile/48587.png\n",
      "0.9972416 data/crocodile/48693.png\n",
      "0.9999665 data/crocodile/48733.png\n",
      "0.9999564 data/crocodile/48775.png\n",
      "0.9576635 data/crocodile/48822.png\n",
      "0.9898365 data/crocodile/48999.png\n",
      "0.9997118 data/crocodile/49006.png\n",
      "0.9999765 data/crocodile/49159.png\n",
      "0.9613373 data/crocodile/49381.png\n",
      "0.9996786 data/crocodile/49398.png\n",
      "0.8014351 data/crocodile/4949.png\n",
      "0.9999914 data/crocodile/49519.png\n",
      "0.9996725 data/crocodile/49551.png\n",
      "0.9987440 data/crocodile/49851.png\n",
      "0.9993894 data/crocodile/49853.png\n",
      "0.9957250 data/crocodile/499.png\n",
      "0.9970691 data/crocodile/49948.png\n",
      "0.9790499 data/crocodile/5194.png\n",
      "0.9997756 data/crocodile/5216.png\n",
      "0.9969208 data/crocodile/5228.png\n",
      "0.9989813 data/crocodile/5253.png\n",
      "0.9999995 data/crocodile/527.png\n",
      "0.9706892 data/crocodile/5396.png\n",
      "0.9960466 data/crocodile/5398.png\n",
      "0.9999950 data/crocodile/5432.png\n",
      "0.9602850 data/crocodile/5434.png\n",
      "0.9029880 data/crocodile/5599.png\n",
      "0.9990112 data/crocodile/5770.png\n",
      "0.9920198 data/crocodile/5790.png\n",
      "0.9998575 data/crocodile/5972.png\n",
      "0.9999968 data/crocodile/6282.png\n",
      "0.9997987 data/crocodile/6296.png\n",
      "0.9555611 data/crocodile/6539.png\n",
      "0.9151676 data/crocodile/662.png\n",
      "0.9994422 data/crocodile/6624.png\n",
      "0.9967187 data/crocodile/6628.png\n",
      "0.0406588 data/crocodile/6640.png\n",
      "0.9857270 data/crocodile/6703.png\n",
      "0.9992969 data/crocodile/678.png\n",
      "0.9953555 data/crocodile/68.png\n",
      "0.9977138 data/crocodile/6821.png\n",
      "0.9947177 data/crocodile/6837.png\n",
      "0.9897746 data/crocodile/6861.png\n",
      "0.9987326 data/crocodile/7167.png\n",
      "0.9999199 data/crocodile/7170.png\n",
      "0.9946293 data/crocodile/718.png\n",
      "0.1172272 data/crocodile/7215.png\n",
      "0.9929354 data/crocodile/7360.png\n",
      "0.9679632 data/crocodile/7425.png\n",
      "0.9999572 data/crocodile/7473.png\n",
      "0.9998192 data/crocodile/7491.png\n",
      "0.9113755 data/crocodile/7593.png\n",
      "0.9962921 data/crocodile/7759.png\n",
      "0.9985593 data/crocodile/7769.png\n",
      "0.9901376 data/crocodile/778.png\n",
      "0.9997265 data/crocodile/7873.png\n",
      "0.9983186 data/crocodile/8010.png\n",
      "0.9999069 data/crocodile/8143.png\n",
      "0.9958797 data/crocodile/8163.png\n",
      "0.9927482 data/crocodile/8268.png\n",
      "0.9970723 data/crocodile/8348.png\n",
      "0.9988926 data/crocodile/8384.png\n",
      "0.9934742 data/crocodile/8693.png\n",
      "0.9994032 data/crocodile/8790.png\n",
      "0.9999903 data/crocodile/9055.png\n",
      "0.9583385 data/crocodile/9085.png\n",
      "0.9999443 data/crocodile/9170.png\n"
     ]
    },
    {
     "name": "stdout",
     "output_type": "stream",
     "text": [
      "0.9674745 data/crocodile/9190.png\n",
      "0.9708984 data/crocodile/9467.png\n",
      "0.9937183 data/crocodile/9533.png\n",
      "0.9995122 data/crocodile/9823.png\n",
      "0.9999933 data/crocodile/9832.png\n",
      "0.9998263 data/crocodile/9910.png\n"
     ]
    }
   ],
   "source": [
    "cc = (float(1), \"\")\n",
    "for c in crocodile_images:\n",
    "    image_path = os.path.join(crocodile_dir, c)\n",
    "    img = image.load_img(image_path, target_size=(img_height, img_width))\n",
    "    x = image.img_to_array(img)\n",
    "    x /= 255\n",
    "    x = np.expand_dims(x, axis=0)\n",
    "\n",
    "\n",
    "    prediction = classifier.predict(x)[0,0]\n",
    "    print(\"{:.7f} {}\".format(prediction, image_path))\n",
    "    if np.abs(prediction - 0.5) < cc[0]:\n",
    "        cc = (prediction, image_path)"
   ]
  },
  {
   "cell_type": "code",
   "execution_count": 34,
   "metadata": {},
   "outputs": [
    {
     "name": "stdout",
     "output_type": "stream",
     "text": [
      "(1, 1)\n",
      "0.117227204\n",
      "0.382772795855999\n"
     ]
    },
    {
     "data": {
      "image/png": "[encoded data removed]",
      "text/plain": [
       "<matplotlib.figure.Figure at 0x1395baed320>"
      ]
     },
     "metadata": {},
     "output_type": "display_data"
    }
   ],
   "source": [
    "img = image.load_img(\"data/crocodile/7215.png\", target_size=(img_height, img_width))\n",
    "x = image.img_to_array(img)\n",
    "x /= 255.\n",
    "x = np.expand_dims(x, axis=0)\n",
    "\n",
    "plt.imshow(img)\n",
    "\n",
    "print(classifier.predict(x).shape)\n",
    "prediction = classifier.predict(x)[0,0]\n",
    "print(prediction)\n",
    "print(np.abs(prediction - 0.5))"
   ]
  },
  {
   "cell_type": "code",
   "execution_count": 18,
   "metadata": {},
   "outputs": [],
   "source": [
    "from tensorflow.python.keras.models import Model\n",
    "from tensorflow.python.keras.layers import Dense, Flatten, Activation, Input\n",
    "from tensorflow.python.keras.layers import Dropout, Conv2D, MaxPooling2D, ZeroPadding2D, UpSampling2D, UpSampling1D\n",
    "from tensorflow.python.keras.optimizers import SGD\n",
    "from sklearn.model_selection import train_test_split"
   ]
  },
  {
   "cell_type": "code",
   "execution_count": 39,
   "metadata": {},
   "outputs": [],
   "source": [
    "input_img = Input(shape=(img_width, img_height, 3))\n",
    "\n",
    "model = Conv2D(32, (3, 3), padding='same', activation='relu')(input_img)\n",
    "model = Conv2D(32, (3, 3), padding='same', activation='relu')(model)\n",
    "model = MaxPooling2D(pool_size=(2, 2))(model)\n",
    "\n",
    "model = Conv2D(64, (3, 3), padding='same', activation='relu')(model)\n",
    "model = Conv2D(64, (3, 3), padding='same', activation='relu')(model)\n",
    "model = MaxPooling2D(pool_size=(2, 2))(model)\n",
    "\n",
    "encoded = Conv2D(3, (3, 3), activation='relu', padding='same')(model)\n",
    "encoder = Model(input_img, encoded, name=\"classifier\")\n",
    "\n",
    "\n",
    "\n",
    "\n",
    "model = Flatten()(model)\n",
    "model = Dense(512, activation='relu')(model)\n",
    "model = Dropout(0.5)(model)\n",
    "model = Dense(1, activation='sigmoid')(model)\n",
    "\n",
    "classifier = Model(input_img, model, name=\"classifier\")\n",
    "\n",
    "\n",
    "\n",
    "\n",
    "\n",
    "input_shape= Input((8, 8, 3))\n",
    "\n",
    "model = Conv2D(32, (3, 3), padding='same', activation='relu')(input_shape)\n",
    "model = Conv2D(32, (3, 3), padding='same', activation='relu')(model)\n",
    "model = UpSampling2D((2, 2))(model)\n",
    "\n",
    "model = Conv2D(64, (3, 3), padding='same', activation='relu')(model)\n",
    "model = Conv2D(64, (3, 3), padding='same', activation='relu')(model)\n",
    "model = UpSampling2D((2, 2))(model)\n",
    "\n",
    "model = Conv2D(3, (3, 3), activation='relu', padding='same')(model)\n",
    "\n",
    "decoder = Model(input_shape, model, name=\"decoder\")\n",
    "autoencoder = Model(input_img, decoder(encoder(input_img)), name=\"autoencoder\")"
   ]
  },
  {
   "cell_type": "code",
   "execution_count": 40,
   "metadata": {},
   "outputs": [],
   "source": [
    "sgd = SGD(lr=0.01, decay=1e-6, momentum=0.9, nesterov=True)\n",
    "classifier.compile(loss='binary_crossentropy', optimizer=sgd, metrics=['accuracy'])\n",
    "\n",
    "encoder.compile(optimizer='adam', loss='binary_crossentropy')"
   ]
  },
  {
   "cell_type": "code",
   "execution_count": 45,
   "metadata": {},
   "outputs": [],
   "source": [
    "autoencoder.compile(optimizer='adam', loss='binary_crossentropy')"
   ]
  },
  {
   "cell_type": "code",
   "execution_count": 17,
   "metadata": {},
   "outputs": [],
   "source": [
    "clock_path = \"data/clock/\"\n",
    "crocodile_path = \"data/crocodile/\" \n",
    "\n",
    "validation_size = 0.1\n",
    "test_size = 0.15\n",
    "\n",
    "batch_size = 16\n",
    "\n",
    "img_width = 32\n",
    "img_height = 32"
   ]
  },
  {
   "cell_type": "code",
   "execution_count": 19,
   "metadata": {},
   "outputs": [],
   "source": [
    "def load_images(image_path):\n",
    "    images = []\n",
    "    image_list = get_files_list(image_path)\n",
    "    for i in image_list:\n",
    "        img = image.load_img(os.path.join(image_path, i), target_size=(img_height, img_width))\n",
    "        x = image.img_to_array(img)\n",
    "        x /= 255\n",
    "        images.append(x)\n",
    "    return images\n",
    "\n",
    "clock_images_list = load_images(clock_path)\n",
    "crocodile_images_list = load_images(crocodile_path)\n",
    "\n",
    "X = np.array(clock_images_list + crocodile_images_list)\n",
    "y = np.array([0]*len(clock_images_list) + [1]*len(crocodile_images_list))\n",
    "\n",
    "X_train, X_test, y_train, y_test = train_test_split(X, y, test_size=test_size)\n",
    "X_train, X_val, y_train, y_val = train_test_split(X_train, y_train, test_size=validation_size)"
   ]
  },
  {
   "cell_type": "code",
   "execution_count": 43,
   "metadata": {
    "scrolled": true
   },
   "outputs": [
    {
     "name": "stdout",
     "output_type": "stream",
     "text": [
      "Train on 765 samples, validate on 85 samples\n",
      "Epoch 1/60\n",
      "765/765 [==============================] - 1s - loss: 0.6707 - acc: 0.5516 - val_loss: 0.6657 - val_acc: 0.6118\n",
      "Epoch 2/60\n",
      "765/765 [==============================] - 1s - loss: 0.5894 - acc: 0.6928 - val_loss: 0.5479 - val_acc: 0.7529\n",
      "Epoch 3/60\n",
      "765/765 [==============================] - 1s - loss: 0.5076 - acc: 0.7595 - val_loss: 0.5195 - val_acc: 0.7412\n",
      "Epoch 4/60\n",
      "765/765 [==============================] - 1s - loss: 0.4285 - acc: 0.7961 - val_loss: 0.3517 - val_acc: 0.8824\n",
      "Epoch 5/60\n",
      "765/765 [==============================] - 1s - loss: 0.4238 - acc: 0.8078 - val_loss: 0.5131 - val_acc: 0.7529\n",
      "Epoch 6/60\n",
      "765/765 [==============================] - 1s - loss: 0.3687 - acc: 0.8222 - val_loss: 0.3369 - val_acc: 0.8706\n",
      "Epoch 7/60\n",
      "765/765 [==============================] - 1s - loss: 0.2890 - acc: 0.8627 - val_loss: 0.2859 - val_acc: 0.8588\n",
      "Epoch 8/60\n",
      "765/765 [==============================] - 1s - loss: 0.2751 - acc: 0.8941 - val_loss: 0.2839 - val_acc: 0.8941\n",
      "Epoch 9/60\n",
      "765/765 [==============================] - 1s - loss: 0.2162 - acc: 0.9255 - val_loss: 0.3435 - val_acc: 0.8706\n",
      "Epoch 10/60\n",
      "765/765 [==============================] - 1s - loss: 0.1883 - acc: 0.9203 - val_loss: 0.3934 - val_acc: 0.8588\n",
      "Epoch 11/60\n",
      "765/765 [==============================] - 1s - loss: 0.2064 - acc: 0.9190 - val_loss: 0.2983 - val_acc: 0.8706\n",
      "Epoch 12/60\n",
      "765/765 [==============================] - 1s - loss: 0.1348 - acc: 0.9464 - val_loss: 0.3582 - val_acc: 0.8588\n",
      "Epoch 13/60\n",
      "765/765 [==============================] - 1s - loss: 0.1287 - acc: 0.9464 - val_loss: 0.4035 - val_acc: 0.8471\n",
      "Epoch 14/60\n",
      "765/765 [==============================] - 1s - loss: 0.0875 - acc: 0.9712 - val_loss: 0.3520 - val_acc: 0.9059\n",
      "Epoch 15/60\n",
      "765/765 [==============================] - 1s - loss: 0.0842 - acc: 0.9673 - val_loss: 0.4494 - val_acc: 0.8588\n",
      "Epoch 16/60\n",
      "765/765 [==============================] - 1s - loss: 0.0802 - acc: 0.9712 - val_loss: 0.5712 - val_acc: 0.8706\n",
      "Epoch 17/60\n",
      "765/765 [==============================] - 1s - loss: 0.0620 - acc: 0.9791 - val_loss: 0.7405 - val_acc: 0.8588\n",
      "Epoch 18/60\n",
      "765/765 [==============================] - 1s - loss: 0.0805 - acc: 0.9686 - val_loss: 0.3735 - val_acc: 0.8941\n",
      "Epoch 19/60\n",
      "765/765 [==============================] - 1s - loss: 0.0498 - acc: 0.9791 - val_loss: 0.8235 - val_acc: 0.8353\n",
      "Epoch 20/60\n",
      "765/765 [==============================] - 1s - loss: 0.0523 - acc: 0.9817 - val_loss: 0.6961 - val_acc: 0.8706\n",
      "Epoch 21/60\n",
      "765/765 [==============================] - 1s - loss: 0.0317 - acc: 0.9922 - val_loss: 0.7173 - val_acc: 0.8471\n",
      "Epoch 22/60\n",
      "765/765 [==============================] - 1s - loss: 0.0378 - acc: 0.9908 - val_loss: 0.6940 - val_acc: 0.8706\n",
      "Epoch 23/60\n",
      "765/765 [==============================] - 1s - loss: 0.0227 - acc: 0.9935 - val_loss: 0.6835 - val_acc: 0.8471\n",
      "Epoch 24/60\n",
      "765/765 [==============================] - 1s - loss: 0.0569 - acc: 0.9817 - val_loss: 0.8685 - val_acc: 0.8706\n",
      "Epoch 25/60\n",
      "765/765 [==============================] - 1s - loss: 0.0394 - acc: 0.9882 - val_loss: 0.5101 - val_acc: 0.8941\n",
      "Epoch 26/60\n",
      "765/765 [==============================] - 1s - loss: 0.0432 - acc: 0.9856 - val_loss: 0.6775 - val_acc: 0.8824\n",
      "Epoch 27/60\n",
      "765/765 [==============================] - 1s - loss: 0.0553 - acc: 0.9817 - val_loss: 0.5475 - val_acc: 0.8588\n",
      "Epoch 28/60\n",
      "765/765 [==============================] - 1s - loss: 0.0279 - acc: 0.9935 - val_loss: 0.4630 - val_acc: 0.9059\n",
      "Epoch 29/60\n",
      "765/765 [==============================] - 1s - loss: 0.0097 - acc: 0.9974 - val_loss: 0.5203 - val_acc: 0.9176\n",
      "Epoch 30/60\n",
      "765/765 [==============================] - 1s - loss: 0.0399 - acc: 0.9882 - val_loss: 0.6762 - val_acc: 0.8824\n",
      "Epoch 31/60\n",
      "765/765 [==============================] - 1s - loss: 0.0204 - acc: 0.9922 - val_loss: 0.7914 - val_acc: 0.9059\n",
      "Epoch 32/60\n",
      "765/765 [==============================] - 1s - loss: 0.0102 - acc: 0.9987 - val_loss: 0.9090 - val_acc: 0.8588\n",
      "Epoch 33/60\n",
      "765/765 [==============================] - 1s - loss: 0.0295 - acc: 0.9882 - val_loss: 1.0308 - val_acc: 0.8471\n",
      "Epoch 34/60\n",
      "765/765 [==============================] - 1s - loss: 0.0105 - acc: 0.9987 - val_loss: 0.9061 - val_acc: 0.8706\n",
      "Epoch 35/60\n",
      "765/765 [==============================] - 1s - loss: 0.0036 - acc: 1.0000 - val_loss: 0.8593 - val_acc: 0.8824\n",
      "Epoch 36/60\n",
      "765/765 [==============================] - 1s - loss: 0.0138 - acc: 0.9961 - val_loss: 0.9913 - val_acc: 0.8824\n",
      "Epoch 37/60\n",
      "765/765 [==============================] - 1s - loss: 0.0279 - acc: 0.9895 - val_loss: 0.8911 - val_acc: 0.8471\n",
      "Epoch 38/60\n",
      "765/765 [==============================] - 1s - loss: 0.0151 - acc: 0.9935 - val_loss: 0.9153 - val_acc: 0.8588\n",
      "Epoch 39/60\n",
      "765/765 [==============================] - 1s - loss: 0.0184 - acc: 0.9935 - val_loss: 0.8469 - val_acc: 0.8588\n",
      "Epoch 40/60\n",
      "765/765 [==============================] - 1s - loss: 0.0121 - acc: 0.9948 - val_loss: 0.8355 - val_acc: 0.8588\n",
      "Epoch 41/60\n",
      "765/765 [==============================] - 1s - loss: 0.0240 - acc: 0.9922 - val_loss: 0.7538 - val_acc: 0.8824\n",
      "Epoch 42/60\n",
      "765/765 [==============================] - 1s - loss: 0.0277 - acc: 0.9895 - val_loss: 0.8388 - val_acc: 0.8706\n",
      "Epoch 43/60\n",
      "765/765 [==============================] - 1s - loss: 0.0091 - acc: 0.9974 - val_loss: 1.0362 - val_acc: 0.8353\n",
      "Epoch 44/60\n",
      "765/765 [==============================] - 1s - loss: 0.0029 - acc: 1.0000 - val_loss: 0.7590 - val_acc: 0.8706\n",
      "Epoch 45/60\n",
      "765/765 [==============================] - 1s - loss: 0.0303 - acc: 0.9948 - val_loss: 0.7437 - val_acc: 0.8941\n",
      "Epoch 46/60\n",
      "765/765 [==============================] - 1s - loss: 0.0299 - acc: 0.9895 - val_loss: 0.7588 - val_acc: 0.8706\n",
      "Epoch 47/60\n",
      "765/765 [==============================] - 1s - loss: 0.0209 - acc: 0.9948 - val_loss: 0.7002 - val_acc: 0.8824\n",
      "Epoch 48/60\n",
      "765/765 [==============================] - 1s - loss: 0.0063 - acc: 0.9974 - val_loss: 0.8108 - val_acc: 0.8588\n",
      "Epoch 49/60\n",
      "765/765 [==============================] - 1s - loss: 0.0052 - acc: 0.9987 - val_loss: 0.7708 - val_acc: 0.9059\n",
      "Epoch 50/60\n",
      "765/765 [==============================] - 1s - loss: 0.0022 - acc: 0.9987 - val_loss: 0.7658 - val_acc: 0.8941\n",
      "Epoch 51/60\n",
      "765/765 [==============================] - 1s - loss: 7.9857e-04 - acc: 1.0000 - val_loss: 0.7557 - val_acc: 0.8941\n",
      "Epoch 52/60\n",
      "765/765 [==============================] - 1s - loss: 7.6488e-04 - acc: 1.0000 - val_loss: 0.7574 - val_acc: 0.8941\n",
      "Epoch 53/60\n",
      "765/765 [==============================] - 1s - loss: 0.0683 - acc: 0.9778 - val_loss: 0.7947 - val_acc: 0.8941\n",
      "Epoch 54/60\n",
      "765/765 [==============================] - 1s - loss: 0.1109 - acc: 0.9647 - val_loss: 0.4879 - val_acc: 0.8471\n",
      "Epoch 55/60\n",
      "765/765 [==============================] - 1s - loss: 0.0352 - acc: 0.9895 - val_loss: 0.7569 - val_acc: 0.8588\n",
      "Epoch 56/60\n",
      "765/765 [==============================] - 1s - loss: 0.0139 - acc: 0.9974 - val_loss: 0.7197 - val_acc: 0.8824\n",
      "Epoch 57/60\n",
      "765/765 [==============================] - 1s - loss: 0.0420 - acc: 0.9948 - val_loss: 1.0585 - val_acc: 0.8471\n",
      "Epoch 58/60\n",
      "765/765 [==============================] - 1s - loss: 0.0133 - acc: 0.9948 - val_loss: 0.9423 - val_acc: 0.89410.\n",
      "Epoch 59/60\n",
      "765/765 [==============================] - 1s - loss: 0.0057 - acc: 0.9961 - val_loss: 1.0972 - val_acc: 0.8824\n",
      "Epoch 60/60\n",
      "765/765 [==============================] - 1s - loss: 0.0019 - acc: 1.0000 - val_loss: 1.0129 - val_acc: 0.8824\n"
     ]
    },
    {
     "data": {
      "text/plain": [
       "<tensorflow.python.keras._impl.keras.callbacks.History at 0x25f27eb9208>"
      ]
     },
     "execution_count": 43,
     "metadata": {},
     "output_type": "execute_result"
    }
   ],
   "source": [
    "classifier.fit(\n",
    "    X_train,\n",
    "    y_train,\n",
    "    epochs=60,\n",
    "    batch_size=batch_size,\n",
    "    validation_data=(X_val, y_val)\n",
    ")"
   ]
  },
  {
   "cell_type": "code",
   "execution_count": 77,
   "metadata": {
    "scrolled": true
   },
   "outputs": [
    {
     "name": "stdout",
     "output_type": "stream",
     "text": [
      "Train on 765 samples, validate on 85 samples\n",
      "Epoch 1/60\n",
      "765/765 [==============================] - 3s - loss: 0.6626 - val_loss: 0.6032\n",
      "Epoch 2/60\n",
      "765/765 [==============================] - 1s - loss: 0.6001 - val_loss: 0.5817\n",
      "Epoch 3/60\n",
      "765/765 [==============================] - 1s - loss: 0.5848 - val_loss: 0.5737\n",
      "Epoch 4/60\n",
      "765/765 [==============================] - 1s - loss: 0.5776 - val_loss: 0.5719\n",
      "Epoch 5/60\n",
      "765/765 [==============================] - 1s - loss: 0.5776 - val_loss: 0.5731\n",
      "Epoch 6/60\n",
      "765/765 [==============================] - 1s - loss: 0.5751 - val_loss: 0.5750\n",
      "Epoch 7/60\n",
      "765/765 [==============================] - 1s - loss: 0.5712 - val_loss: 0.5612\n",
      "Epoch 8/60\n",
      "765/765 [==============================] - 1s - loss: 0.5679 - val_loss: 0.5592\n",
      "Epoch 9/60\n",
      "765/765 [==============================] - 1s - loss: 0.5650 - val_loss: 0.5599\n",
      "Epoch 10/60\n",
      "765/765 [==============================] - 1s - loss: 0.5635 - val_loss: 0.5579\n",
      "Epoch 11/60\n",
      "765/765 [==============================] - 1s - loss: 0.5652 - val_loss: 0.5660\n",
      "Epoch 12/60\n",
      "765/765 [==============================] - 1s - loss: 0.5645 - val_loss: 0.5552ss: 0\n",
      "Epoch 13/60\n",
      "765/765 [==============================] - 1s - loss: 0.5630 - val_loss: 0.5556\n",
      "Epoch 14/60\n",
      "765/765 [==============================] - 1s - loss: 0.5605 - val_loss: 0.5576\n",
      "Epoch 15/60\n",
      "765/765 [==============================] - 1s - loss: 0.5603 - val_loss: 0.5562\n",
      "Epoch 16/60\n",
      "765/765 [==============================] - 1s - loss: 0.5624 - val_loss: 0.5566\n",
      "Epoch 17/60\n",
      "765/765 [==============================] - 1s - loss: 0.5597 - val_loss: 0.5530\n",
      "Epoch 18/60\n",
      "765/765 [==============================] - 1s - loss: 0.5593 - val_loss: 0.5552\n",
      "Epoch 19/60\n",
      "765/765 [==============================] - 1s - loss: 0.5590 - val_loss: 0.5534\n",
      "Epoch 20/60\n",
      "765/765 [==============================] - 1s - loss: 0.5593 - val_loss: 0.5524\n",
      "Epoch 21/60\n",
      "765/765 [==============================] - 1s - loss: 0.5589 - val_loss: 0.5537\n",
      "Epoch 22/60\n",
      "765/765 [==============================] - 1s - loss: 0.5599 - val_loss: 0.5578\n",
      "Epoch 23/60\n",
      "765/765 [==============================] - 1s - loss: 0.5598 - val_loss: 0.5546\n",
      "Epoch 24/60\n",
      "765/765 [==============================] - 1s - loss: 0.5577 - val_loss: 0.5525\n",
      "Epoch 25/60\n",
      "765/765 [==============================] - 1s - loss: 0.5571 - val_loss: 0.5516\n",
      "Epoch 26/60\n",
      "765/765 [==============================] - 1s - loss: 0.5574 - val_loss: 0.5516\n",
      "Epoch 27/60\n",
      "765/765 [==============================] - 1s - loss: 0.5570 - val_loss: 0.5511\n",
      "Epoch 28/60\n",
      "765/765 [==============================] - 1s - loss: 0.5566 - val_loss: 0.5511\n",
      "Epoch 29/60\n",
      "765/765 [==============================] - 1s - loss: 0.5590 - val_loss: 0.5526\n",
      "Epoch 30/60\n",
      "765/765 [==============================] - 1s - loss: 0.5569 - val_loss: 0.5516\n",
      "Epoch 31/60\n",
      "765/765 [==============================] - 1s - loss: 0.5595 - val_loss: 0.5555\n",
      "Epoch 32/60\n",
      "765/765 [==============================] - 1s - loss: 0.5586 - val_loss: 0.5527\n",
      "Epoch 33/60\n",
      "765/765 [==============================] - 1s - loss: 0.5572 - val_loss: 0.5508\n",
      "Epoch 34/60\n",
      "765/765 [==============================] - 1s - loss: 0.5559 - val_loss: 0.5516\n",
      "Epoch 35/60\n",
      "765/765 [==============================] - 1s - loss: 0.5558 - val_loss: 0.5508\n",
      "Epoch 36/60\n",
      "765/765 [==============================] - 1s - loss: 0.5561 - val_loss: 0.5504\n",
      "Epoch 37/60\n",
      "765/765 [==============================] - ETA: 0s - loss: 0.556 - 1s - loss: 0.5563 - val_loss: 0.5504\n",
      "Epoch 38/60\n",
      "765/765 [==============================] - 1s - loss: 0.5558 - val_loss: 0.5504\n",
      "Epoch 39/60\n",
      "765/765 [==============================] - 1s - loss: 0.5555 - val_loss: 0.5507\n",
      "Epoch 40/60\n",
      "765/765 [==============================] - 1s - loss: 0.5557 - val_loss: 0.5502\n",
      "Epoch 41/60\n",
      "765/765 [==============================] - 1s - loss: 0.5555 - val_loss: 0.5507\n",
      "Epoch 42/60\n",
      "765/765 [==============================] - 1s - loss: 0.5553 - val_loss: 0.5494\n",
      "Epoch 43/60\n",
      "765/765 [==============================] - 1s - loss: 0.5558 - val_loss: 0.5504\n",
      "Epoch 44/60\n",
      "765/765 [==============================] - 1s - loss: 0.5555 - val_loss: 0.5521\n",
      "Epoch 45/60\n",
      "765/765 [==============================] - 1s - loss: 0.5557 - val_loss: 0.5495\n",
      "Epoch 46/60\n",
      "765/765 [==============================] - 1s - loss: 0.5562 - val_loss: 0.5511\n",
      "Epoch 47/60\n",
      "765/765 [==============================] - 1s - loss: 0.5556 - val_loss: 0.5499\n",
      "Epoch 48/60\n",
      "765/765 [==============================] - 1s - loss: 0.5554 - val_loss: 0.5503\n",
      "Epoch 49/60\n",
      "765/765 [==============================] - 1s - loss: 0.5562 - val_loss: 0.5492\n",
      "Epoch 50/60\n",
      "765/765 [==============================] - 1s - loss: 0.5549 - val_loss: 0.5493\n",
      "Epoch 51/60\n",
      "765/765 [==============================] - 1s - loss: 0.5557 - val_loss: 0.5496\n",
      "Epoch 52/60\n",
      "765/765 [==============================] - 1s - loss: 0.5545 - val_loss: 0.5491\n",
      "Epoch 53/60\n",
      "765/765 [==============================] - 1s - loss: 0.5542 - val_loss: 0.5493\n",
      "Epoch 54/60\n",
      "765/765 [==============================] - 1s - loss: 0.5557 - val_loss: 0.5531\n",
      "Epoch 55/60\n",
      "765/765 [==============================] - 1s - loss: 0.5558 - val_loss: 0.5499\n",
      "Epoch 56/60\n",
      "765/765 [==============================] - 1s - loss: 0.5566 - val_loss: 0.5492\n",
      "Epoch 57/60\n",
      "765/765 [==============================] - 1s - loss: 0.5540 - val_loss: 0.5486\n",
      "Epoch 58/60\n",
      "765/765 [==============================] - 1s - loss: 0.5537 - val_loss: 0.5484\n",
      "Epoch 59/60\n",
      "765/765 [==============================] - 1s - loss: 0.5536 - val_loss: 0.5483\n",
      "Epoch 60/60\n",
      "765/765 [==============================] - 1s - loss: 0.5540 - val_loss: 0.5489\n"
     ]
    },
    {
     "data": {
      "text/plain": [
       "<tensorflow.python.keras._impl.keras.callbacks.History at 0x25f2256b0b8>"
      ]
     },
     "execution_count": 77,
     "metadata": {},
     "output_type": "execute_result"
    }
   ],
   "source": [
    "autoencoder.fit(X_train, X_train,\n",
    "                epochs=60,\n",
    "                batch_size=batch_size,\n",
    "                shuffle=True,\n",
    "                validation_data=(X_val, X_val))\n"
   ]
  },
  {
   "cell_type": "code",
   "execution_count": 78,
   "metadata": {},
   "outputs": [
    {
     "data": {
      "text/plain": [
       "<matplotlib.image.AxesImage at 0x25f340b2358>"
      ]
     },
     "execution_count": 78,
     "metadata": {},
     "output_type": "execute_result"
    },
    {
     "data": {
      "image/png": "[encoded data removed]",
      "text/plain": [
       "<matplotlib.figure.Figure at 0x25f2256b860>"
      ]
     },
     "metadata": {},
     "output_type": "display_data"
    }
   ],
   "source": [
    "img = image.load_img(\"train/test/clock/17611.png\", target_size=(img_height, img_width))\n",
    "plt.imshow(img)"
   ]
  },
  {
   "cell_type": "code",
   "execution_count": 79,
   "metadata": {},
   "outputs": [
    {
     "data": {
      "text/plain": [
       "<matplotlib.image.AxesImage at 0x25f33cf39b0>"
      ]
     },
     "execution_count": 79,
     "metadata": {},
     "output_type": "execute_result"
    },
    {
     "data": {
      "image/png": "[encoded data removed]",
      "text/plain": [
       "<matplotlib.figure.Figure at 0x25f34097fd0>"
      ]
     },
     "metadata": {},
     "output_type": "display_data"
    }
   ],
   "source": [
    "img = image.load_img(\"train/test/clock/17611.png\", target_size=(img_height, img_width))\n",
    "x = image.img_to_array(img)\n",
    "x /= 255.\n",
    "x = np.expand_dims(x, axis=0)\n",
    "\n",
    "x = autoencoder.predict(x)\n",
    "plt.imshow(x.reshape(32, 32, 3))"
   ]
  },
  {
   "cell_type": "code",
   "execution_count": 74,
   "metadata": {},
   "outputs": [],
   "source": [
    "nput_img = Input(shape=(32, 32, 3))\n",
    "\n",
    "x = Conv2D(32, (4, 4), activation='relu', padding='same')(input_img)\n",
    "x = Conv2D(32, (4, 4), activation='relu', padding='same')(x)\n",
    "x = MaxPooling2D((2, 2), padding='same')(x)\n",
    "x = Conv2D(64, (2, 2), activation='relu', padding='same')(x)\n",
    "x = Conv2D(64, (2, 2), activation='relu', padding='same')(x)\n",
    "x = MaxPooling2D((2, 2), padding='same')(x)\n",
    "encoded = Conv2D(3, (3, 3), activation='relu', padding='same')(x)\n",
    "\n",
    "\n",
    "input_encoded = Input(shape=(8, 8, 3))\n",
    "x = Conv2D(64, (2, 2), activation='relu', padding='same')(input_encoded)\n",
    "x = Conv2D(64, (2, 2), activation='relu', padding='same')(x)\n",
    "x = UpSampling2D((2, 2))(x)\n",
    "x = Conv2D(32, (4, 4), activation='relu', padding='same')(x)\n",
    "x = Conv2D(32, (4, 4), activation='relu', padding='same')(x)\n",
    "x = UpSampling2D((2, 2))(x)\n",
    "decoded = Conv2D(3, (3, 3), activation='sigmoid', padding='same')(x)\n",
    "\n",
    "# Модели\n",
    "encoder = Model(input_img, encoded, name=\"encoder\")\n",
    "decoder = Model(input_encoded, decoded, name=\"decoder\")\n",
    "autoencoder = Model(input_img, decoder(encoder(input_img)), name=\"autoencoder\")"
   ]
  },
  {
   "cell_type": "code",
   "execution_count": 76,
   "metadata": {},
   "outputs": [],
   "source": [
    "encoder.compile(optimizer='adam', loss='binary_crossentropy')\n",
    "decoder.compile(optimizer='adam', loss='binary_crossentropy')\n",
    "\n",
    "autoencoder.compile(optimizer='adam', loss='binary_crossentropy')\n"
   ]
  },
  {
   "cell_type": "code",
   "execution_count": 56,
   "metadata": {},
   "outputs": [
    {
     "ename": "NameError",
     "evalue": "name 'X_validation' is not defined",
     "output_type": "error",
     "traceback": [
      "\u001b[1;31m---------------------------------------------------------------------------\u001b[0m",
      "\u001b[1;31mNameError\u001b[0m                                 Traceback (most recent call last)",
      "\u001b[1;32m<ipython-input-56-b3fde82df022>\u001b[0m in \u001b[0;36m<module>\u001b[1;34m()\u001b[0m\n\u001b[0;32m      3\u001b[0m                 \u001b[0mbatch_size\u001b[0m\u001b[1;33m=\u001b[0m\u001b[1;36m64\u001b[0m\u001b[1;33m,\u001b[0m\u001b[1;33m\u001b[0m\u001b[0m\n\u001b[0;32m      4\u001b[0m                 \u001b[0mshuffle\u001b[0m\u001b[1;33m=\u001b[0m\u001b[1;32mTrue\u001b[0m\u001b[1;33m,\u001b[0m\u001b[1;33m\u001b[0m\u001b[0m\n\u001b[1;32m----> 5\u001b[1;33m                 validation_data=(X_validation, X_validation))\n\u001b[0m",
      "\u001b[1;31mNameError\u001b[0m: name 'X_validation' is not defined"
     ]
    }
   ],
   "source": [
    "autoencoder.fit(X_train, X_train,\n",
    "                epochs=300,\n",
    "                batch_size=64,\n",
    "                shuffle=True,\n",
    "                validation_data=(X_validation, X_validation))\n",
    "\n"
   ]
  },
  {
   "cell_type": "code",
   "execution_count": 32,
   "metadata": {},
   "outputs": [
    {
     "name": "stdout",
     "output_type": "stream",
     "text": [
      "_________________________________________________________________\n",
      "Layer (type)                 Output Shape              Param #   \n",
      "=================================================================\n",
      "input_3 (InputLayer)         (None, 32, 32, 3)         0         \n",
      "_________________________________________________________________\n",
      "conv2d_25 (Conv2D)           (None, 32, 32, 32)        896       \n",
      "_________________________________________________________________\n",
      "conv2d_26 (Conv2D)           (None, 32, 32, 32)        9248      \n",
      "_________________________________________________________________\n",
      "max_pooling2d_7 (MaxPooling2 (None, 16, 16, 32)        0         \n",
      "_________________________________________________________________\n",
      "conv2d_27 (Conv2D)           (None, 16, 16, 64)        18496     \n",
      "_________________________________________________________________\n",
      "conv2d_28 (Conv2D)           (None, 16, 16, 64)        36928     \n",
      "_________________________________________________________________\n",
      "max_pooling2d_8 (MaxPooling2 (None, 8, 8, 64)          0         \n",
      "_________________________________________________________________\n",
      "conv2d_29 (Conv2D)           (None, 8, 8, 1)           577       \n",
      "=================================================================\n",
      "Total params: 66,145\n",
      "Trainable params: 66,145\n",
      "Non-trainable params: 0\n",
      "_________________________________________________________________\n"
     ]
    }
   ],
   "source": [
    "encoder.summary()"
   ]
  },
  {
   "cell_type": "code",
   "execution_count": 138,
   "metadata": {},
   "outputs": [
    {
     "data": {
      "text/plain": [
       "0.20775141"
      ]
     },
     "execution_count": 138,
     "metadata": {},
     "output_type": "execute_result"
    }
   ],
   "source": [
    "classifier.predict(x)[0,0]"
   ]
  },
  {
   "cell_type": "code",
   "execution_count": 132,
   "metadata": {},
   "outputs": [],
   "source": [
    "img = image.load_img(\"train/test/clock/20184.png\", target_size=(img_height, img_width))\n",
    "x = image.img_to_array(img)\n",
    "x /= 255.\n",
    "x = np.expand_dims(x, axis=0)\n",
    "x1 = encoder.predict(x)\n",
    "\n",
    "img = image.load_img(\"train/test/crocodile/26692.png\", target_size=(img_height, img_width))\n",
    "x = image.img_to_array(img)\n",
    "x /= 255.\n",
    "x = np.expand_dims(x, axis=0)\n",
    "x2 = encoder.predict(x)"
   ]
  },
  {
   "cell_type": "code",
   "execution_count": 133,
   "metadata": {},
   "outputs": [
    {
     "data": {
      "text/plain": [
       "<matplotlib.image.AxesImage at 0x25f353c5d30>"
      ]
     },
     "execution_count": 133,
     "metadata": {},
     "output_type": "execute_result"
    },
    {
     "data": {
      "image/png": "[encoded data removed]",
      "text/plain": [
       "<matplotlib.figure.Figure at 0x25f353691d0>"
      ]
     },
     "metadata": {},
     "output_type": "display_data"
    }
   ],
   "source": [
    "x = decoder.predict(x1)\n",
    "plt.imshow(x.reshape(32, 32, 3))"
   ]
  },
  {
   "cell_type": "code",
   "execution_count": 134,
   "metadata": {},
   "outputs": [
    {
     "data": {
      "text/plain": [
       "<matplotlib.image.AxesImage at 0x25f35403940>"
      ]
     },
     "execution_count": 134,
     "metadata": {},
     "output_type": "execute_result"
    },
    {
     "data": {
      "image/png": "[encoded data removed]",
      "text/plain": [
       "<matplotlib.figure.Figure at 0x25f353a9208>"
      ]
     },
     "metadata": {},
     "output_type": "display_data"
    }
   ],
   "source": [
    "x = decoder.predict(x2)\n",
    "plt.imshow(x.reshape(32, 32, 3))"
   ]
  },
  {
   "cell_type": "code",
   "execution_count": 135,
   "metadata": {},
   "outputs": [
    {
     "data": {
      "image/png": "[encoded data removed]",
      "text/plain": [
       "<matplotlib.figure.Figure at 0x25f351ac080>"
      ]
     },
     "metadata": {},
     "output_type": "display_data"
    }
   ],
   "source": [
    "img = image.load_img(\"train/test/clock/20184.png\", target_size=(img_height, img_width))\n",
    "x_ = image.img_to_array(img)\n",
    "x_ /= 255.\n",
    "\n",
    "\n",
    "img = image.load_img(\"train/test/crocodile/26692.png\", target_size=(img_height, img_width))\n",
    "x__ = image.img_to_array(img)\n",
    "x__ /= 255.\n",
    "\n",
    "x = x_\n",
    "x[::,::,1] = x__[::,::,1]\n",
    "x[::,::,2] = (x__[::,::,2] + x_[::,::,2]) / 2\n",
    "plt.imshow(x.reshape(32, 32, 3))\n",
    "x = np.expand_dims(x, axis=0)"
   ]
  },
  {
   "cell_type": "code",
   "execution_count": 137,
   "metadata": {},
   "outputs": [
    {
     "data": {
      "text/plain": [
       "<matplotlib.image.AxesImage at 0x25f35482240>"
      ]
     },
     "execution_count": 137,
     "metadata": {},
     "output_type": "execute_result"
    },
    {
     "data": {
      "image/png": "[encoded data removed]",
      "text/plain": [
       "<matplotlib.figure.Figure at 0x25f3533a5f8>"
      ]
     },
     "metadata": {},
     "output_type": "display_data"
    }
   ],
   "source": [
    "x = decoder.predict((x1 + x2) / 2)\n",
    "plt.imshow(x.reshape(32, 32, 3))"
   ]
  },
  {
   "cell_type": "code",
   "execution_count": null,
   "metadata": {},
   "outputs": [],
   "source": []
  }
 ],
 "metadata": {
  "kernelspec": {
   "display_name": "Python 3",
   "language": "python",
   "name": "python3"
  },
  "language_info": {
   "codemirror_mode": {
    "name": "ipython",
    "version": 3
   },
   "file_extension": ".py",
   "mimetype": "text/x-python",
   "name": "python",
   "nbconvert_exporter": "python",
   "pygments_lexer": "ipython3",
   "version": "3.5.4"
  }
 },
 "nbformat": 4,
 "nbformat_minor": 2
}
