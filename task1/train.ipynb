{
 "cells": [
  {
   "cell_type": "code",
   "execution_count": 1,
   "metadata": {},
   "outputs": [],
   "source": [
    "import os\n",
    "import shutil\n",
    "import numpy as np\n",
    "from sklearn.model_selection import train_test_split\n",
    "import tensorflow as tf\n",
    "from tensorflow.python.keras.preprocessing import image\n",
    "from tensorflow.python.keras.models import Model\n",
    "from tensorflow.python.keras.layers import Dense, Flatten, Activation, Input\n",
    "from tensorflow.python.keras.layers import Dropout, Conv2D, MaxPooling2D\n",
    "from tensorflow.python.keras.optimizers import SGD\n",
    "import matplotlib.pyplot as plt\n",
    "%matplotlib inline"
   ]
  },
  {
   "cell_type": "code",
   "execution_count": 2,
   "metadata": {},
   "outputs": [],
   "source": [
    "clock_path = os.path.join(\"data\", \"clock\")\n",
    "crocodile_path = os.path.join(\"data\", \"crocodile\")\n",
    "\n",
    "validation_size = 0.1\n",
    "test_size = 0.15\n",
    "\n",
    "batch_size = 16\n",
    "\n",
    "img_width = 32\n",
    "img_height = 32"
   ]
  },
  {
   "cell_type": "markdown",
   "metadata": {},
   "source": [
    "## Подготовим данные"
   ]
  },
  {
   "cell_type": "code",
   "execution_count": 3,
   "metadata": {},
   "outputs": [],
   "source": [
    "def get_files_list(dir_path):\n",
    "    return [f for f in os.listdir(dir_path) if os.path.isfile(os.path.join(dir_path, f))]"
   ]
  },
  {
   "cell_type": "code",
   "execution_count": 4,
   "metadata": {},
   "outputs": [],
   "source": [
    "def load_images(image_path):\n",
    "    images = []\n",
    "    image_list = get_files_list(image_path)\n",
    "    for i in image_list:\n",
    "        img = image.load_img(os.path.join(image_path, i), target_size=(img_height, img_width))\n",
    "        x = image.img_to_array(img)\n",
    "        x /= 255\n",
    "        images.append(x)\n",
    "    return images"
   ]
  },
  {
   "cell_type": "code",
   "execution_count": 5,
   "metadata": {
    "scrolled": true
   },
   "outputs": [],
   "source": [
    "clock_images_list = load_images(clock_path)\n",
    "crocodile_images_list = load_images(crocodile_path)\n",
    "\n",
    "X = np.array(clock_images_list + crocodile_images_list)\n",
    "y = np.array([0]*len(clock_images_list) + [1]*len(crocodile_images_list))"
   ]
  },
  {
   "cell_type": "code",
   "execution_count": 6,
   "metadata": {},
   "outputs": [],
   "source": [
    "X_train, X_test, y_train, y_test = train_test_split(X, y, test_size=test_size)\n",
    "X_train, X_val, y_train, y_val = train_test_split(X_train, y_train, test_size=validation_size)"
   ]
  },
  {
   "cell_type": "markdown",
   "metadata": {},
   "source": [
    "## Построим и протестируем классификатор"
   ]
  },
  {
   "cell_type": "code",
   "execution_count": 7,
   "metadata": {},
   "outputs": [],
   "source": [
    "input_img = Input(shape=(img_width, img_height, 3))\n",
    "\n",
    "model = Conv2D(32, (3, 3), padding='same', activation='relu')(input_img)\n",
    "model = Conv2D(32, (3, 3), padding='same', activation='relu')(model)\n",
    "model = MaxPooling2D(pool_size=(2, 2))(model)\n",
    "model = Dropout(0.25)(model)\n",
    "\n",
    "model = Conv2D(128, (3, 3), padding='same', activation='relu')(model)\n",
    "model = Conv2D(128, (3, 3), padding='same', activation='relu')(model)\n",
    "model = MaxPooling2D(pool_size=(2, 2))(model)\n",
    "model = Dropout(0.25)(model)\n",
    "\n",
    "model = Flatten()(model)\n",
    "model = Dense(1024, activation='relu')(model)\n",
    "model = Dropout(0.5)(model)\n",
    "model = Dense(1, activation='sigmoid')(model)\n",
    "\n",
    "classifier = Model(input_img, model, name=\"classifier\")"
   ]
  },
  {
   "cell_type": "code",
   "execution_count": 8,
   "metadata": {},
   "outputs": [],
   "source": [
    "sgd = SGD(lr=0.01, decay=1e-6, momentum=0.9, nesterov=True)\n",
    "classifier.compile(loss='binary_crossentropy', optimizer=sgd, metrics=['accuracy'])"
   ]
  },
  {
   "cell_type": "code",
   "execution_count": 9,
   "metadata": {
    "scrolled": true
   },
   "outputs": [
    {
     "name": "stdout",
     "output_type": "stream",
     "text": [
      "Train on 765 samples, validate on 85 samples\n",
      "Epoch 1/30\n",
      "765/765 [==============================] - 6s - loss: 0.6847 - acc: 0.5072 - val_loss: 0.6768 - val_acc: 0.6353\n",
      "Epoch 2/30\n",
      "765/765 [==============================] - 2s - loss: 0.6188 - acc: 0.6458 - val_loss: 0.5363 - val_acc: 0.7176\n",
      "Epoch 3/30\n",
      "765/765 [==============================] - 2s - loss: 0.5325 - acc: 0.7425 - val_loss: 0.4865 - val_acc: 0.7412\n",
      "Epoch 4/30\n",
      "765/765 [==============================] - 2s - loss: 0.4611 - acc: 0.7869 - val_loss: 0.4629 - val_acc: 0.7529\n",
      "Epoch 5/30\n",
      "765/765 [==============================] - 2s - loss: 0.4485 - acc: 0.8039 - val_loss: 0.4029 - val_acc: 0.8118\n",
      "Epoch 6/30\n",
      "765/765 [==============================] - 2s - loss: 0.4386 - acc: 0.8039 - val_loss: 0.3231 - val_acc: 0.8824\n",
      "Epoch 7/30\n",
      "765/765 [==============================] - 3s - loss: 0.3940 - acc: 0.8196 - val_loss: 0.3313 - val_acc: 0.8471\n",
      "Epoch 8/30\n",
      "765/765 [==============================] - 6s - loss: 0.3799 - acc: 0.8379 - val_loss: 0.3019 - val_acc: 0.8588\n",
      "Epoch 9/30\n",
      "765/765 [==============================] - 4s - loss: 0.3540 - acc: 0.8523 - val_loss: 0.2809 - val_acc: 0.8706\n",
      "Epoch 10/30\n",
      "765/765 [==============================] - 3s - loss: 0.3733 - acc: 0.8418 - val_loss: 0.2746 - val_acc: 0.8824\n",
      "Epoch 11/30\n",
      "765/765 [==============================] - 2s - loss: 0.3259 - acc: 0.8745 - val_loss: 0.2669 - val_acc: 0.8706\n",
      "Epoch 12/30\n",
      "765/765 [==============================] - 4s - loss: 0.2704 - acc: 0.8850 - val_loss: 0.2469 - val_acc: 0.8941\n",
      "Epoch 13/30\n",
      "765/765 [==============================] - 4s - loss: 0.2673 - acc: 0.8941 - val_loss: 0.2584 - val_acc: 0.8824\n",
      "Epoch 14/30\n",
      "765/765 [==============================] - 3s - loss: 0.2290 - acc: 0.9150 - val_loss: 0.1877 - val_acc: 0.9294\n",
      "Epoch 15/30\n",
      "765/765 [==============================] - 3s - loss: 0.2193 - acc: 0.9085 - val_loss: 0.2018 - val_acc: 0.9059\n",
      "Epoch 16/30\n",
      "765/765 [==============================] - 2s - loss: 0.2159 - acc: 0.9111 - val_loss: 0.2039 - val_acc: 0.9176\n",
      "Epoch 17/30\n",
      "765/765 [==============================] - 2s - loss: 0.1784 - acc: 0.9346 - val_loss: 0.1913 - val_acc: 0.8941\n",
      "Epoch 18/30\n",
      "765/765 [==============================] - 2s - loss: 0.1856 - acc: 0.9281 - val_loss: 0.2679 - val_acc: 0.9059\n",
      "Epoch 19/30\n",
      "765/765 [==============================] - 2s - loss: 0.1389 - acc: 0.9464 - val_loss: 0.2204 - val_acc: 0.9176\n",
      "Epoch 20/30\n",
      "765/765 [==============================] - 2s - loss: 0.1584 - acc: 0.9346 - val_loss: 0.2498 - val_acc: 0.8824\n",
      "Epoch 21/30\n",
      "765/765 [==============================] - 2s - loss: 0.1136 - acc: 0.9595 - val_loss: 0.1988 - val_acc: 0.8941\n",
      "Epoch 22/30\n",
      "765/765 [==============================] - 2s - loss: 0.1107 - acc: 0.9647 - val_loss: 0.3100 - val_acc: 0.8941\n",
      "Epoch 23/30\n",
      "765/765 [==============================] - 2s - loss: 0.0946 - acc: 0.9634 - val_loss: 0.1723 - val_acc: 0.9176\n",
      "Epoch 24/30\n",
      "765/765 [==============================] - 3s - loss: 0.0987 - acc: 0.9621 - val_loss: 0.3021 - val_acc: 0.8588\n",
      "Epoch 25/30\n",
      "765/765 [==============================] - 2s - loss: 0.0910 - acc: 0.9621 - val_loss: 0.3236 - val_acc: 0.8941\n",
      "Epoch 26/30\n",
      "765/765 [==============================] - 2s - loss: 0.1180 - acc: 0.9634 - val_loss: 0.2230 - val_acc: 0.8824\n",
      "Epoch 27/30\n",
      "765/765 [==============================] - 3s - loss: 0.0784 - acc: 0.9686 - val_loss: 0.3474 - val_acc: 0.8941\n",
      "Epoch 28/30\n",
      "765/765 [==============================] - 2s - loss: 0.0695 - acc: 0.9752 - val_loss: 0.3720 - val_acc: 0.8941\n",
      "Epoch 29/30\n",
      "765/765 [==============================] - 2s - loss: 0.0492 - acc: 0.9882 - val_loss: 0.2721 - val_acc: 0.9176ETA: 0s - loss: 0.0421 - acc: 0.98\n",
      "Epoch 30/30\n",
      "765/765 [==============================] - 2s - loss: 0.0320 - acc: 0.9895 - val_loss: 0.3117 - val_acc: 0.9176\n"
     ]
    }
   ],
   "source": [
    "history = classifier.fit(\n",
    "    X_train,\n",
    "    y_train,\n",
    "    epochs=30,\n",
    "    batch_size=batch_size,\n",
    "    validation_data=(X_val, y_val)\n",
    ")"
   ]
  },
  {
   "cell_type": "markdown",
   "metadata": {},
   "source": [
    "## Результаты"
   ]
  },
  {
   "cell_type": "code",
   "execution_count": 10,
   "metadata": {
    "scrolled": true
   },
   "outputs": [
    {
     "name": "stdout",
     "output_type": "stream",
     "text": [
      "150/150 [==============================] - 0s     \n",
      "accuracy: 92.00%\n"
     ]
    }
   ],
   "source": [
    "print(\"accuracy: {:.2f}%\".format(classifier.evaluate(X_test, y_test, batch_size=batch_size)[1] * 100))"
   ]
  },
  {
   "cell_type": "code",
   "execution_count": 11,
   "metadata": {},
   "outputs": [
    {
     "data": {
      "text/plain": [
       "Text(0.5,1,'validation accuracy')"
      ]
     },
     "execution_count": 11,
     "metadata": {},
     "output_type": "execute_result"
    },
    {
     "data": {
      "image/png": "[encoded data removed]",
      "text/plain": [
       "<matplotlib.figure.Figure at 0x143ff09b630>"
      ]
     },
     "metadata": {},
     "output_type": "display_data"
    }
   ],
   "source": [
    "fig, axis = plt.subplots(2, 2, sharey=True, sharex=True, figsize=(15, 10))\n",
    "\n",
    "axis[0, 0].plot(history.history['loss'])\n",
    "axis[0, 0].set_title('loss')\n",
    "\n",
    "axis[0, 1].plot(history.history['val_loss'])\n",
    "axis[0, 1].set_title('validation loss')\n",
    "\n",
    "axis[1, 0].plot(history.history['acc'])\n",
    "axis[1, 0].set_title('accuracy')\n",
    "\n",
    "axis[1, 1].plot(history.history['val_acc'])\n",
    "axis[1, 1].set_title('validation accuracy')"
   ]
  },
  {
   "cell_type": "code",
   "execution_count": 12,
   "metadata": {},
   "outputs": [],
   "source": [
    "with open(\"classifier.json\", \"w\") as f:\n",
    "    f.write(classifier.to_json())\n",
    "classifier.save_weights(\"classifier.h5\")"
   ]
  },
  {
   "cell_type": "code",
   "execution_count": null,
   "metadata": {},
   "outputs": [],
   "source": []
  }
 ],
 "metadata": {
  "kernelspec": {
   "display_name": "Python 3",
   "language": "python",
   "name": "python3"
  },
  "language_info": {
   "codemirror_mode": {
    "name": "ipython",
    "version": 3
   },
   "file_extension": ".py",
   "mimetype": "text/x-python",
   "name": "python",
   "nbconvert_exporter": "python",
   "pygments_lexer": "ipython3",
   "version": "3.5.4"
  }
 },
 "nbformat": 4,
 "nbformat_minor": 2
}
