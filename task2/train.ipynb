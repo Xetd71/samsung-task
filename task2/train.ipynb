{
 "cells": [
  {
   "cell_type": "code",
   "execution_count": 1,
   "metadata": {
    "collapsed": true
   },
   "outputs": [],
   "source": [
    "import numpy as np\n",
    "import pandas as pd\n",
    "from sklearn.feature_extraction.text import TfidfVectorizer\n",
    "import matplotlib.pyplot as plt\n",
    "%matplotlib inline"
   ]
  },
  {
   "cell_type": "code",
   "execution_count": 2,
   "metadata": {
    "collapsed": true
   },
   "outputs": [],
   "source": [
    "test_size = 0.2\n",
    "random_state = 9\n",
    "predict_class = [\"Гегель\", \"Гоголь\"]"
   ]
  },
  {
   "cell_type": "markdown",
   "metadata": {},
   "source": [
    "## Подготовим данные"
   ]
  },
  {
   "cell_type": "code",
   "execution_count": 3,
   "metadata": {},
   "outputs": [
    {
     "data": {
      "text/html": [
       "<div>\n",
       "<style>\n",
       "    .dataframe thead tr:only-child th {\n",
       "        text-align: right;\n",
       "    }\n",
       "\n",
       "    .dataframe thead th {\n",
       "        text-align: left;\n",
       "    }\n",
       "\n",
       "    .dataframe tbody tr th {\n",
       "        vertical-align: top;\n",
       "    }\n",
       "</style>\n",
       "<table border=\"1\" class=\"dataframe\">\n",
       "  <thead>\n",
       "    <tr style=\"text-align: right;\">\n",
       "      <th></th>\n",
       "      <th>Fragment</th>\n",
       "      <th>X</th>\n",
       "      <th>y</th>\n",
       "    </tr>\n",
       "  </thead>\n",
       "  <tbody>\n",
       "    <tr>\n",
       "      <th>0</th>\n",
       "      <td>\\r\\r\\nВсеобщее понятие логики \\r\\n\\r\\nНи в как...</td>\n",
       "      <td>всеобщ понят логик наук чувств стол сильн потр...</td>\n",
       "      <td>0</td>\n",
       "    </tr>\n",
       "    <tr>\n",
       "      <th>1</th>\n",
       "      <td>Логика же, напротив, не может брать в качестве...</td>\n",
       "      <td>логик напрот брат качеств предпосылк одн эт фо...</td>\n",
       "      <td>0</td>\n",
       "    </tr>\n",
       "    <tr>\n",
       "      <th>2</th>\n",
       "      <td>То, что мы предпосылаем здесь в этом введении,...</td>\n",
       "      <td>предпосыла введен имеет поэт сво цел обоснова ...</td>\n",
       "      <td>0</td>\n",
       "    </tr>\n",
       "    <tr>\n",
       "      <th>3</th>\n",
       "      <td>В самом деле, если, как утверждают, ее предмет...</td>\n",
       "      <td>сам дел утвержда предмет мышлен прав мышлен не...</td>\n",
       "      <td>0</td>\n",
       "    </tr>\n",
       "    <tr>\n",
       "      <th>4</th>\n",
       "      <td>Предполагается, во-первых, что материя познава...</td>\n",
       "      <td>предполага воперв матер познаван существ сам в...</td>\n",
       "      <td>0</td>\n",
       "    </tr>\n",
       "  </tbody>\n",
       "</table>\n",
       "</div>"
      ],
      "text/plain": [
       "                                            Fragment  \\\n",
       "0  \\r\\r\\nВсеобщее понятие логики \\r\\n\\r\\nНи в как...   \n",
       "1  Логика же, напротив, не может брать в качестве...   \n",
       "2  То, что мы предпосылаем здесь в этом введении,...   \n",
       "3  В самом деле, если, как утверждают, ее предмет...   \n",
       "4  Предполагается, во-первых, что материя познава...   \n",
       "\n",
       "                                                   X  y  \n",
       "0  всеобщ понят логик наук чувств стол сильн потр...  0  \n",
       "1  логик напрот брат качеств предпосылк одн эт фо...  0  \n",
       "2  предпосыла введен имеет поэт сво цел обоснова ...  0  \n",
       "3  сам дел утвержда предмет мышлен прав мышлен не...  0  \n",
       "4  предполага воперв матер познаван существ сам в...  0  "
      ]
     },
     "execution_count": 3,
     "metadata": {},
     "output_type": "execute_result"
    }
   ],
   "source": [
    "data = pd.read_csv(\"data/data.csv\", sep=\",\", encoding=\"cp1251\")\n",
    "data.head()"
   ]
  },
  {
   "cell_type": "code",
   "execution_count": 4,
   "metadata": {
    "collapsed": true
   },
   "outputs": [],
   "source": [
    "X, y = np.array(data[\"X\"]), np.array(data[\"y\"], dtype=\"int\")"
   ]
  },
  {
   "cell_type": "markdown",
   "metadata": {},
   "source": [
    "Создаем Tf-IDF матрицу"
   ]
  },
  {
   "cell_type": "code",
   "execution_count": 5,
   "metadata": {
    "collapsed": true
   },
   "outputs": [],
   "source": [
    "tfidf = TfidfVectorizer(ngram_range=(1, 2))\n",
    "X = tfidf.fit_transform(X)"
   ]
  },
  {
   "cell_type": "markdown",
   "metadata": {},
   "source": [
    "Делим данные нa train и test"
   ]
  },
  {
   "cell_type": "code",
   "execution_count": 6,
   "metadata": {
    "collapsed": true
   },
   "outputs": [],
   "source": [
    "from sklearn.linear_model import LogisticRegression\n",
    "from sklearn.metrics import roc_auc_score, roc_curve\n",
    "from sklearn.model_selection import train_test_split, KFold, GridSearchCV"
   ]
  },
  {
   "cell_type": "code",
   "execution_count": 7,
   "metadata": {
    "collapsed": true
   },
   "outputs": [],
   "source": [
    "X_train, X_test, y_train, y_test = train_test_split(X, y, test_size=0.2, random_state=random_state)"
   ]
  },
  {
   "cell_type": "markdown",
   "metadata": {},
   "source": [
    "## Найдем лучшие параметры для логистической регрессии"
   ]
  },
  {
   "cell_type": "code",
   "execution_count": 8,
   "metadata": {},
   "outputs": [
    {
     "data": {
      "text/plain": [
       "{'C': 100000.0, 'penalty': 'l2'}"
      ]
     },
     "execution_count": 8,
     "metadata": {},
     "output_type": "execute_result"
    }
   ],
   "source": [
    "param_grid = {'C': np.logspace(-5, 5, 10), 'penalty':['l2']} \n",
    "gs = GridSearchCV(LogisticRegression(), param_grid=param_grid, scoring='roc_auc')\n",
    "gs.fit(X_train, y_train)\n",
    "gs.best_params_"
   ]
  },
  {
   "cell_type": "markdown",
   "metadata": {},
   "source": [
    "## Тренируем модель"
   ]
  },
  {
   "cell_type": "code",
   "execution_count": 9,
   "metadata": {},
   "outputs": [
    {
     "name": "stdout",
     "output_type": "stream",
     "text": [
      "val ROC-AUC:  0.996106557377\n",
      "ROC-AUC:  0.997536945813\n"
     ]
    }
   ],
   "source": [
    "LR = gs.best_estimator_\n",
    "KF = KFold(n_splits=10)\n",
    "y_pred = np.zeros(y_train.shape)\n",
    "for train, test in KF.split(X_train):\n",
    "    LR.fit(X_train[train], y_train[train])\n",
    "    y_pred[test] = LR.predict(X_train[test])\n",
    "print('val ROC-AUC: ', roc_auc_score(y_train, y_pred))\n",
    "\n",
    "y_pred = LR.predict(X_test)\n",
    "print('ROC-AUC: ', roc_auc_score(y_test, y_pred))"
   ]
  },
  {
   "cell_type": "code",
   "execution_count": 10,
   "metadata": {},
   "outputs": [
    {
     "data": {
      "text/plain": [
       "<matplotlib.text.Text at 0x23cf3869a58>"
      ]
     },
     "execution_count": 10,
     "metadata": {},
     "output_type": "execute_result"
    },
    {
     "data": {
      "image/png": "[encoded data removed]",
      "text/plain": [
       "<matplotlib.figure.Figure at 0x23cf4041d68>"
      ]
     },
     "metadata": {},
     "output_type": "display_data"
    }
   ],
   "source": [
    "fpr, tpr, _ = roc_curve(y_test, y_pred)\n",
    "plt.plot(fpr, tpr)\n",
    "plt.xlabel('False Positive Rate')\n",
    "plt.ylabel('True Positive Rate')\n",
    "plt.title('ROC-AUC curve')"
   ]
  },
  {
   "cell_type": "markdown",
   "metadata": {},
   "source": [
    "## Опробуем модель на отрывках из других текстов"
   ]
  },
  {
   "cell_type": "code",
   "execution_count": 11,
   "metadata": {
    "collapsed": true
   },
   "outputs": [],
   "source": [
    "import os\n",
    "import string\n",
    "from nltk.tokenize import word_tokenize\n",
    "from nltk.corpus import stopwords\n",
    "from nltk.stem.snowball import SnowballStemmer"
   ]
  },
  {
   "cell_type": "code",
   "execution_count": 12,
   "metadata": {
    "collapsed": true
   },
   "outputs": [],
   "source": [
    "stop_words = set(stopwords.words(\"russian\"))\n",
    "stemmer = SnowballStemmer(\"russian\")\n",
    "\n",
    "def prepare_data(data):\n",
    "    # делим на слова\n",
    "    s = word_tokenize(data)\n",
    "    # приводим к нижнему регистру, убираем пунктуацию\n",
    "    s = [w.lower().translate(str.maketrans('', '', string.punctuation)) for w in s]\n",
    "    # фильтруем слова не из алфавита\n",
    "    s = [w for w in s if w.isalpha()]\n",
    "    # преобразуем в коренные слова\n",
    "    s = [stemmer.stem(w) for w in s]\n",
    "    s = \" \".join(s)\n",
    "    \n",
    "    s = tfidf.transform([s])\n",
    "    return s"
   ]
  },
  {
   "cell_type": "markdown",
   "metadata": {},
   "source": [
    "##### Гегель Георг Вильгельм Фридрих. Философия права\n",
    "Ни в какой другой науке не чувствуется столь сильно потребность начинать с самой сути дела, без предварительных размышлений, как в науке логики. В каждой другой науке рассматриваемый ею предмет и научный метод различаются между собой; равным образом и содержание [этих наук] не начинает абсолютно с самого начала, а зависит от других понятий и связано с окружающим его иным материалом. Вот почему за этими науками признается право говорить лишь при помощи лемм о почве, на которой они стоят, и о ее связи, равно как и о методе, прямо применять предполагаемые известными и принятыми формы дефиниций и т. п. и пользоваться для установления своих всеобщих понятий и основных определений обычным способом рассуждения. Логика же, напротив, не может брать в качестве предпосылки ни одной из этих форм рефлексии или правил и законов мышления, ибо сами они составляют часть ее содержания и сначала должны получить свое обоснование внутри нее. Но в ее содержание входит не только указание научного метода, но и вообще само понятие науки, причем это понятие составляет ее конечный результат: она поэтому не может заранее сказать, что она такое, лишь все ее изложение порождает это знание о ней самой как ее итог (Letztes) и завершение. И точно так же ее предмет, мышление или, говоря определеннее, мышление, постигающее в понятиях, рассматривается по существу внутри нее; понятие этого мышления образуется в ходе ее развертывания и, стало быть, не может быть предпослано. То, что мы предпосылаем здесь в этом введении, не имеет поэтому своей целью обосновать, скажем, понятие логики или дать наперед научное обоснование ее содержания и метода, а имеет своей целью с помощью некоторых разъяснений и размышлений в рассуждающем и историческом духе растолковать представлению ту точку зрения, с которой следует рассматривать эту науку. "
   ]
  },
  {
   "cell_type": "code",
   "execution_count": 13,
   "metadata": {},
   "outputs": [
    {
     "name": "stdout",
     "output_type": "stream",
     "text": [
      "Автор текста: Гегель\n"
     ]
    }
   ],
   "source": [
    "s = \"Ни в какой другой науке не чувствуется столь сильно потребность начинать с самой сути дела, без предварительных размышлений, как в науке логики. В каждой другой науке рассматриваемый ею предмет и научный метод различаются между собой; равным образом и содержание [этих наук] не начинает абсолютно с самого начала, а зависит от других понятий и связано с окружающим его иным материалом. Вот почему за этими науками признается право говорить лишь при помощи лемм о почве, на которой они стоят, и о ее связи, равно как и о методе, прямо применять предполагаемые известными и принятыми формы дефиниций и т. п. и пользоваться для установления своих всеобщих понятий и основных определений обычным способом рассуждения. Логика же, напротив, не может брать в качестве предпосылки ни одной из этих форм рефлексии или правил и законов мышления, ибо сами они составляют часть ее содержания и сначала должны получить свое обоснование внутри нее. Но в ее содержание входит не только указание научного метода, но и вообще само понятие науки, причем это понятие составляет ее конечный результат: она поэтому не может заранее сказать, что она такое, лишь все ее изложение порождает это знание о ней самой как ее итог (Letztes) и завершение. И точно так же ее предмет, мышление или, говоря определеннее, мышление, постигающее в понятиях, рассматривается по существу внутри нее; понятие этого мышления образуется в ходе ее развертывания и, стало быть, не может быть предпослано. То, что мы предпосылаем здесь в этом введении, не имеет поэтому своей целью обосновать, скажем, понятие логики или дать наперед научное обоснование ее содержания и метода, а имеет своей целью с помощью некоторых разъяснений и размышлений в рассуждающем и историческом духе растолковать представлению ту точку зрения, с которой следует рассматривать эту науку. \"\n",
    "print(\"Автор текста: {}\".format(predict_class[LR.predict(prepare_data(s))[0]]))"
   ]
  },
  {
   "cell_type": "markdown",
   "metadata": {
    "collapsed": true
   },
   "source": [
    "###### Гоголь Николай. Страшная месть\n",
    "        Бiжить возок кривавенький;\n",
    "        У тiм возку козак лежить,\n",
    "        Пострiляний, порубаний.\n",
    "        В правiй ручцi дротик держить,\n",
    "        З того дроту крiвця бежить;\n",
    "        Бiжить река кривавая.\n",
    "        Над рiчкою явор стоiть,\n",
    "        Над явором ворон кряче.\n",
    "        За козаком мати плаче.\n",
    "        Не плачь, мати, не журися!\n",
    "        Бо вже твiй сын оженився,\n",
    "        Та взяв женку паняночку,\n",
    "        В чистом полi земляночку,\n",
    "        I без дверець, без оконець.\n",
    "        Та вже пiснi вийшов конець.\n",
    "        Танцiвала рыба з раком…\n",
    "        А хто мене не полюбить, трясця его матерь!"
   ]
  },
  {
   "cell_type": "code",
   "execution_count": 14,
   "metadata": {},
   "outputs": [
    {
     "name": "stdout",
     "output_type": "stream",
     "text": [
      "Автор текста: Гоголь\n"
     ]
    }
   ],
   "source": [
    "s = \"Бiжить возок кривавенький; У тiм возку козак лежить, Пострiляний, порубаний. В правiй ручцi дротик держить, З того дроту крiвця бежить; Бiжить река кривавая. Над рiчкою явор стоiть, Над явором ворон кряче. За козаком мати плаче. Не плачь, мати, не журися! Бо вже твiй сын оженився, Та взяв женку паняночку, В чистом полi земляночку, I без дверець, без оконець. Та вже пiснi вийшов конець. Танцiвала рыба з раком… А хто мене не полюбить, трясця его матерь!\"\n",
    "print(\"Автор текста: {}\".format(predict_class[LR.predict(prepare_data(s))[0]]))"
   ]
  },
  {
   "cell_type": "code",
   "execution_count": null,
   "metadata": {
    "collapsed": true
   },
   "outputs": [],
   "source": []
  }
 ],
 "metadata": {
  "kernelspec": {
   "display_name": "Python 3",
   "language": "python",
   "name": "python3"
  },
  "language_info": {
   "codemirror_mode": {
    "name": "ipython",
    "version": 3
   },
   "file_extension": ".py",
   "mimetype": "text/x-python",
   "name": "python",
   "nbconvert_exporter": "python",
   "pygments_lexer": "ipython3",
   "version": "3.6.2"
  }
 },
 "nbformat": 4,
 "nbformat_minor": 2
}
