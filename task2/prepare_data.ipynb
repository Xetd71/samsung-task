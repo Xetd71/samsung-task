{
 "cells": [
  {
   "cell_type": "markdown",
   "metadata": {},
   "source": [
    "# Подготавливаем данные и сохраняем их в data/data.cv"
   ]
  },
  {
   "cell_type": "code",
   "execution_count": 1,
   "metadata": {
    "collapsed": true
   },
   "outputs": [],
   "source": [
    "import os\n",
    "import re\n",
    "import string\n",
    "import numpy as np\n",
    "import pandas as pd\n",
    "from nltk import sent_tokenize\n",
    "from nltk.tokenize import word_tokenize\n",
    "from nltk.corpus import stopwords\n",
    "from nltk.stem.snowball import SnowballStemmer"
   ]
  },
  {
   "cell_type": "code",
   "execution_count": 2,
   "metadata": {
    "collapsed": true
   },
   "outputs": [],
   "source": [
    "sent_num = 3\n",
    "gegel_files = [os.path.join(\"data\", \"Гегель Фридрих. Наука логики.txt\")]\n",
    "gogol_files = [os.path.join(\"data\", \"Гоголь Николай. Мертвые души.txt\")]"
   ]
  },
  {
   "cell_type": "markdown",
   "metadata": {},
   "source": [
    "## Разделим произведения Гоголя и Гегеля на куски и уберем ненужную информацию"
   ]
  },
  {
   "cell_type": "code",
   "execution_count": 3,
   "metadata": {
    "collapsed": true
   },
   "outputs": [],
   "source": [
    "stop_words = set(stopwords.words(\"russian\"))\n",
    "stemmer = SnowballStemmer(\"russian\")\n",
    "\n",
    "def read_split_data(files_paths):\n",
    "    # читаем тексты\n",
    "    text = \"\"\n",
    "    for file_path in files_paths:\n",
    "        with open(file_path) as f:\n",
    "            text += os.linesep + f.read()\n",
    "            \n",
    "    # делим тексты на предложения        \n",
    "    sentences = sent_tokenize(text)\n",
    "    \n",
    "    data, fragment = [], []\n",
    "    # объединяем в группу по sent_num предложений\n",
    "    for i in np.arange(0, len(sentences), sent_num):\n",
    "        s = \" \".join(sentences[i:i + sent_num])\n",
    "        fragment.append(s)\n",
    "        # делим на слова\n",
    "        s = word_tokenize(s)\n",
    "        # приводим к нижнему регистру, убираем пунктуацию\n",
    "        s = [w.lower().translate(str.maketrans('', '', string.punctuation)) for w in s]\n",
    "        # фильтруем слова не из алфавита\n",
    "        s = [w for w in s if w.isalpha()]\n",
    "        # фильтруем стоп слова\n",
    "        s = [w for w in s if not w in stop_words]\n",
    "        # преобразуем в коренные слова\n",
    "        s = [stemmer.stem(w) for w in s]\n",
    "        data.append(\" \".join(s))\n",
    "    return fragment, data"
   ]
  },
  {
   "cell_type": "code",
   "execution_count": 4,
   "metadata": {
    "collapsed": true
   },
   "outputs": [],
   "source": [
    "gegel_fragment, gegel_data = read_split_data(gegel_files)\n",
    "gogol_fragment, gogol_data = read_split_data(gogol_files)"
   ]
  },
  {
   "cell_type": "markdown",
   "metadata": {},
   "source": [
    "## Сохраним данные в файл data/data.csv"
   ]
  },
  {
   "cell_type": "code",
   "execution_count": 5,
   "metadata": {
    "collapsed": true
   },
   "outputs": [],
   "source": [
    "fragment = np.array(gegel_fragment + gogol_fragment, dtype=\"str\")\n",
    "X = np.array(gegel_data +  gogol_data, dtype=\"str\")\n",
    "y = np.array([0]*len(gegel_data) + [1]*len(gogol_data), dtype=\"int\")"
   ]
  },
  {
   "cell_type": "code",
   "execution_count": 6,
   "metadata": {},
   "outputs": [
    {
     "data": {
      "text/html": [
       "<div>\n",
       "<style>\n",
       "    .dataframe thead tr:only-child th {\n",
       "        text-align: right;\n",
       "    }\n",
       "\n",
       "    .dataframe thead th {\n",
       "        text-align: left;\n",
       "    }\n",
       "\n",
       "    .dataframe tbody tr th {\n",
       "        vertical-align: top;\n",
       "    }\n",
       "</style>\n",
       "<table border=\"1\" class=\"dataframe\">\n",
       "  <thead>\n",
       "    <tr style=\"text-align: right;\">\n",
       "      <th></th>\n",
       "      <th>Fragment</th>\n",
       "      <th>X</th>\n",
       "      <th>y</th>\n",
       "    </tr>\n",
       "  </thead>\n",
       "  <tbody>\n",
       "    <tr>\n",
       "      <th>0</th>\n",
       "      <td>\\r\\nВсеобщее понятие логики \\n\\nНи в какой дру...</td>\n",
       "      <td>всеобщ понят логик наук чувств стол сильн потр...</td>\n",
       "      <td>0</td>\n",
       "    </tr>\n",
       "    <tr>\n",
       "      <th>1</th>\n",
       "      <td>Логика же, напротив, не может брать в качестве...</td>\n",
       "      <td>логик напрот брат качеств предпосылк одн эт фо...</td>\n",
       "      <td>0</td>\n",
       "    </tr>\n",
       "    <tr>\n",
       "      <th>2</th>\n",
       "      <td>То, что мы предпосылаем здесь в этом введении,...</td>\n",
       "      <td>предпосыла введен имеет поэт сво цел обоснова ...</td>\n",
       "      <td>0</td>\n",
       "    </tr>\n",
       "    <tr>\n",
       "      <th>3</th>\n",
       "      <td>В самом деле, если, как утверждают, ее предмет...</td>\n",
       "      <td>сам дел утвержда предмет мышлен прав мышлен не...</td>\n",
       "      <td>0</td>\n",
       "    </tr>\n",
       "    <tr>\n",
       "      <th>4</th>\n",
       "      <td>Предполагается, во-первых, что материя познава...</td>\n",
       "      <td>предполага воперв матер познаван существ сам в...</td>\n",
       "      <td>0</td>\n",
       "    </tr>\n",
       "  </tbody>\n",
       "</table>\n",
       "</div>"
      ],
      "text/plain": [
       "                                            Fragment  \\\n",
       "0  \\r\\nВсеобщее понятие логики \\n\\nНи в какой дру...   \n",
       "1  Логика же, напротив, не может брать в качестве...   \n",
       "2  То, что мы предпосылаем здесь в этом введении,...   \n",
       "3  В самом деле, если, как утверждают, ее предмет...   \n",
       "4  Предполагается, во-первых, что материя познава...   \n",
       "\n",
       "                                                   X  y  \n",
       "0  всеобщ понят логик наук чувств стол сильн потр...  0  \n",
       "1  логик напрот брат качеств предпосылк одн эт фо...  0  \n",
       "2  предпосыла введен имеет поэт сво цел обоснова ...  0  \n",
       "3  сам дел утвержда предмет мышлен прав мышлен не...  0  \n",
       "4  предполага воперв матер познаван существ сам в...  0  "
      ]
     },
     "execution_count": 6,
     "metadata": {},
     "output_type": "execute_result"
    }
   ],
   "source": [
    "df = pd.DataFrame(data={\"Fragment\": fragment, \"X\": X, \"y\": y})\n",
    "df.head()"
   ]
  },
  {
   "cell_type": "code",
   "execution_count": 7,
   "metadata": {
    "collapsed": true,
    "scrolled": true
   },
   "outputs": [],
   "source": [
    "df.to_csv(\"data/data.csv\", sep=',', encoding=\"windows-1251\", index=False)"
   ]
  },
  {
   "cell_type": "code",
   "execution_count": null,
   "metadata": {
    "collapsed": true
   },
   "outputs": [],
   "source": []
  }
 ],
 "metadata": {
  "kernelspec": {
   "display_name": "Python 3",
   "language": "python",
   "name": "python3"
  },
  "language_info": {
   "codemirror_mode": {
    "name": "ipython",
    "version": 3
   },
   "file_extension": ".py",
   "mimetype": "text/x-python",
   "name": "python",
   "nbconvert_exporter": "python",
   "pygments_lexer": "ipython3",
   "version": "3.6.2"
  }
 },
 "nbformat": 4,
 "nbformat_minor": 2
}
