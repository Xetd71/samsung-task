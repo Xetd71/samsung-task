{
 "cells": [
  {
   "cell_type": "markdown",
   "metadata": {},
   "source": [
    "# Подготавливаем данные и сохраняем их в data/data.cv"
   ]
  },
  {
   "cell_type": "code",
   "execution_count": 1,
   "metadata": {
    "collapsed": true
   },
   "outputs": [],
   "source": [
    "import os\n",
    "import re\n",
    "import string\n",
    "import numpy as np\n",
    "from nltk import sent_tokenize\n",
    "from nltk.tokenize import word_tokenize\n",
    "from nltk.corpus import stopwords\n",
    "from nltk.stem.snowball import SnowballStemmer"
   ]
  },
  {
   "cell_type": "code",
   "execution_count": 2,
   "metadata": {
    "collapsed": true
   },
   "outputs": [],
   "source": [
    "sent_num = 3\n",
    "gegel_files = [os.path.join(\"data\", \"Гегель Фридрих. Наука логики.txt\")]\n",
    "gogol_files = [os.path.join(\"data\", \"Гоголь Николай. Мертвые души.txt\")]"
   ]
  },
  {
   "cell_type": "code",
   "execution_count": 3,
   "metadata": {
    "collapsed": true
   },
   "outputs": [],
   "source": [
    "stop_words = set(stopwords.words(\"russian\"))\n",
    "stemmer = SnowballStemmer(\"russian\")\n",
    "\n",
    "def read_split_data(files_paths):\n",
    "    # читаем тексты\n",
    "    text = \"\"\n",
    "    for file_path in files_paths:\n",
    "        with open(file_path) as f:\n",
    "            text += os.linesep + f.read()\n",
    "            \n",
    "    # делим тексты на предложения        \n",
    "    sentences = sent_tokenize(text)\n",
    "    \n",
    "    data = []\n",
    "    # объединяем в группу по sent_num предложений\n",
    "    for i in np.arange(0, len(sentences), sent_num):\n",
    "        s = \" \".join(sentences[i:i + sent_num])\n",
    "        # делим на слова\n",
    "        s = word_tokenize(s)\n",
    "        # приводим к нижнему регистру, убираем пунктуацию\n",
    "        s = [w.lower().translate(str.maketrans('', '', string.punctuation)) for w in s]\n",
    "        # фильтруем слова не из алфавита\n",
    "        s = [w for w in s if w.isalpha()]\n",
    "#         # фильтруем стоп слова\n",
    "#         s = [w for w in s if not w in stop_words]\n",
    "#         # преобразуем в коренные слова\n",
    "#         s = [stemmer.stem(w) for w in s]\n",
    "        data.append(\" \".join(s))\n",
    "    return data"
   ]
  },
  {
   "cell_type": "code",
   "execution_count": 4,
   "metadata": {},
   "outputs": [],
   "source": [
    "gegel_data = read_split_data(gegel_files)\n",
    "gogol_data = read_split_data(gogol_files)"
   ]
  },
  {
   "cell_type": "code",
   "execution_count": 5,
   "metadata": {
    "collapsed": true
   },
   "outputs": [],
   "source": [
    "X = np.array(gegel_data +  gogol_data, dtype=\"str\")\n",
    "y = np.array([\"0\"]*len(gegel_data) + [\"1\"]*len(gogol_data), dtype=\"int\")"
   ]
  },
  {
   "cell_type": "code",
   "execution_count": 6,
   "metadata": {
    "collapsed": true
   },
   "outputs": [],
   "source": [
    "import pandas as pd\n",
    "df = pd.DataFrame(data={\"X\": X, \"y\": y})"
   ]
  },
  {
   "cell_type": "code",
   "execution_count": 7,
   "metadata": {
    "collapsed": true
   },
   "outputs": [],
   "source": [
    "df.to_csv(\"data/data.csv\", sep=',')"
   ]
  },
  {
   "cell_type": "code",
   "execution_count": null,
   "metadata": {
    "collapsed": true
   },
   "outputs": [],
   "source": []
  }
 ],
 "metadata": {
  "kernelspec": {
   "display_name": "Python 3",
   "language": "python",
   "name": "python3"
  },
  "language_info": {
   "codemirror_mode": {
    "name": "ipython",
    "version": 3
   },
   "file_extension": ".py",
   "mimetype": "text/x-python",
   "name": "python",
   "nbconvert_exporter": "python",
   "pygments_lexer": "ipython3",
   "version": "3.6.2"
  }
 },
 "nbformat": 4,
 "nbformat_minor": 2
}
